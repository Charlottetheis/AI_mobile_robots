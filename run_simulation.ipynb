{
 "cells": [
  {
   "cell_type": "code",
   "execution_count": 1,
   "metadata": {},
   "outputs": [
    {
     "name": "stdout",
     "output_type": "stream",
     "text": [
      "pygame 1.9.6\n",
      "Hello from the pygame community. https://www.pygame.org/contribute.html\n"
     ]
    }
   ],
   "source": [
    "from state import *\n",
    "from graph_parser import *\n",
    "from predicates import *\n",
    "\n",
    "from actions import *\n",
    "from offline_search import *\n",
    "from simulate import *\n",
    "from costmap import *"
   ]
  },
  {
   "cell_type": "code",
   "execution_count": 2,
   "metadata": {},
   "outputs": [],
   "source": [
    "test_map =\"\"\"wwwwwwwwwwwweeewwwwwwwwwww\n",
    "w  s b    w     w b   b  w\n",
    "w         w     w        w\n",
    "w         w     w        w\n",
    "w         w     w        w\n",
    "w         w              w\n",
    "w                        w\n",
    "w2              w        w\n",
    "w         wb    w      s w\n",
    "wwwwwww  wwb    wwwwwwwwww\n",
    "w s b     wb           b w\n",
    "w         wb           b w\n",
    "w         wb   ww        w\n",
    "w         wb   ww        w\n",
    "w         w    wwwww wwwww\n",
    "wwwwwwwwwww    ww3    b  w\n",
    "e              ww        w\n",
    "e              ww        e\n",
    "e                        w\n",
    "e                        w\n",
    "wwwwwwwwwww    www  wwwwww\n",
    "ws b   b  w    wb      b w\n",
    "w         w    w       b w\n",
    "w         w    w       b w\n",
    "w         w    w         w\n",
    "w         w    w         w\n",
    "www  wwwwww    wwwwww  www\n",
    "w               b wb   b w\n",
    "w                 w      w\n",
    "w     b   w       w      w\n",
    "w1        wr      w      w\n",
    "w         w       w     sw\n",
    "wwwwwwwwwwwwweeewwwwwwwwww\"\"\""
   ]
  },
  {
   "cell_type": "code",
   "execution_count": 3,
   "metadata": {
    "scrolled": true
   },
   "outputs": [],
   "source": [
    "%%capture\n",
    "data_all = pd.DataFrame()\n",
    "\n",
    "for i in range(1):\n",
    "    print('--------------------' + str(i) + '-----------------------------')\n",
    "    data = simulate(test_map, 20, experiments=['Baseline', 'AI', 'Informed'],viz=True, run_no=i)\n",
    "    data_all = data_all.append(data, ignore_index=True)"
   ]
  },
  {
   "cell_type": "code",
   "execution_count": null,
   "metadata": {},
   "outputs": [],
   "source": []
  }
 ],
 "metadata": {
  "kernelspec": {
   "display_name": "Python 3",
   "language": "python",
   "name": "python3"
  },
  "language_info": {
   "codemirror_mode": {
    "name": "ipython",
    "version": 3
   },
   "file_extension": ".py",
   "mimetype": "text/x-python",
   "name": "python",
   "nbconvert_exporter": "python",
   "pygments_lexer": "ipython3",
   "version": "3.6.5"
  }
 },
 "nbformat": 4,
 "nbformat_minor": 4
}
