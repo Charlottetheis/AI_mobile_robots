{
 "cells": [
  {
   "cell_type": "code",
   "execution_count": 1,
   "metadata": {},
   "outputs": [
    {
     "name": "stdout",
     "output_type": "stream",
     "text": [
      "pygame 1.9.6\n",
      "Hello from the pygame community. https://www.pygame.org/contribute.html\n"
     ]
    }
   ],
   "source": [
    "from state import *\n",
    "from graph_parser import *\n",
    "from predicates import *\n",
    "from actions import *\n",
    "from offline_search import *\n",
    "from simulate import *\n",
    "from costmap import *"
   ]
  },
  {
   "cell_type": "code",
   "execution_count": 2,
   "metadata": {},
   "outputs": [],
   "source": [
    "test_map =\"\"\"wwwwwwwwwwwweeewwwwwwwwwww\n",
    "w  s b    w     w b   b  w\n",
    "w         w     w        w\n",
    "w         w     w        w\n",
    "w         w     w        w\n",
    "w         w              w\n",
    "w                        w\n",
    "w2              w        w\n",
    "w         wb    w      s w\n",
    "wwwwwww  wwb    wwwwwwwwww\n",
    "w s b     wb           b w\n",
    "w         wb           b w\n",
    "w         wb   ww        w\n",
    "w         wb   ww        w\n",
    "w         w    wwwww wwwww\n",
    "wwwwwwwwwww    ww3    b  w\n",
    "e              ww        w\n",
    "e              ww        e\n",
    "e                        w\n",
    "e                        w\n",
    "wwwwwwwwwww    www  wwwwww\n",
    "ws b   b  w    wb      b w\n",
    "w         w    w       b w\n",
    "w         w    w       b w\n",
    "w         w    w         w\n",
    "w         w    w         w\n",
    "www  wwwwww    wwwwww  www\n",
    "w               b wb   b w\n",
    "w                 w      w\n",
    "w     b   w       w      w\n",
    "w1        wr      w      w\n",
    "w         w       w     sw\n",
    "wwwwwwwwwwwwweeewwwwwwwwww\"\"\""
   ]
  },
  {
   "cell_type": "code",
   "execution_count": 3,
   "metadata": {
    "scrolled": true
   },
   "outputs": [
    {
     "name": "stdout",
     "output_type": "stream",
     "text": [
      "--------------------0-----------------------------\n",
      "AI\n",
      "Time: 0 no conflicts\n",
      "Time: 1 no conflicts\n",
      "Time: 2 no conflicts\n",
      "Time: 3 no conflicts\n",
      "Time: 4 no conflicts\n",
      "Time: 5 no conflicts\n",
      "Time: 6 no conflicts\n",
      "Time: 7 no conflicts\n",
      "Time: 8 no conflicts\n",
      "Time: 9 no conflicts\n",
      "Time: 10 no conflicts\n",
      "Time: 11 no conflicts\n",
      "Time: 12 no conflicts\n",
      "Time: 13 no conflicts\n",
      "Time: 14 no conflicts\n",
      "Time: 15 no conflicts\n",
      "replanning at time: 16\n",
      "agents replanned [human 2, human 3]\n",
      "Time: 16 no conflicts\n",
      "Time: 17 no conflicts\n",
      "Time: 18 no conflicts\n",
      "Time: 19 no conflicts\n",
      "Time: 20 no conflicts\n",
      "Time: 21 no conflicts\n",
      "Time: 22 no conflicts\n",
      "Time: 23 no conflicts\n",
      "Time: 24 no conflicts\n",
      "Time: 25 no conflicts\n",
      "Time: 26 no conflicts\n",
      "Time: 27 no conflicts\n",
      "Time: 28 no conflicts\n",
      "Time: 29 no conflicts\n",
      "Time: 30 no conflicts\n",
      "Time: 31 no conflicts\n",
      "Time: 32 no conflicts\n",
      "Time: 33 no conflicts\n",
      "Time: 34 no conflicts\n",
      "replanning at time: 35\n",
      "agents replanned [human 5, Robot 0]\n",
      "robot stopped\n",
      "Time: 35 no conflicts\n",
      "Time: 36 no conflicts\n",
      "Time: 37 no conflicts\n",
      "replanning at time: 38\n",
      "agents replanned [human 2, Robot 0]\n",
      "Time: 38 no conflicts\n",
      "Time: 39 no conflicts\n",
      "Replan caused by wrong prediction at time 40\n",
      "Time: 40 no conflicts\n",
      "Time: 41 no conflicts\n",
      "Time: 42 no conflicts\n",
      "Time: 43 no conflicts\n",
      "Time: 44 no conflicts\n",
      "Time: 45 no conflicts\n",
      "Time: 46 no conflicts\n",
      "Time: 47 no conflicts\n",
      "Time: 48 no conflicts\n",
      "Time: 49 no conflicts\n",
      "Time: 50 no conflicts\n",
      "Time: 51 no conflicts\n",
      "Time: 52 no conflicts\n",
      "Time: 53 no conflicts\n",
      "Time: 54 no conflicts\n",
      "Time: 55 no conflicts\n",
      "Time: 56 no conflicts\n",
      "Time: 57 no conflicts\n",
      "replanning at time: 58\n",
      "agents replanned [human 6, human 7]\n",
      "Time: 58 no conflicts\n",
      "replanning at time: 59\n",
      "agents replanned [human 7, Robot 0]\n",
      "robot stopped\n",
      "Time: 59 no conflicts\n",
      "replanning at time: 60\n",
      "agents replanned [human 6, human 7]\n",
      "Time: 60 no conflicts\n",
      "Time: 61 no conflicts\n",
      "replanning at time: 62\n",
      "agents replanned [human 6, human 7]\n",
      "Replan caused by wrong prediction at time 62\n",
      "Time: 62 no conflicts\n",
      "Time: 63 no conflicts\n",
      "replanning at time: 64\n",
      "agents replanned [human 6, human 7]\n",
      "Time: 64 no conflicts\n",
      "Time: 65 no conflicts\n",
      "Time: 66 no conflicts\n",
      "Time: 67 no conflicts\n",
      "Time: 68 no conflicts\n",
      "Time: 69 no conflicts\n",
      "Time: 70 no conflicts\n",
      "Time: 71 no conflicts\n",
      "Time: 72 no conflicts\n",
      "Time: 73 no conflicts\n",
      "Time: 74 no conflicts\n",
      "Time: 75 no conflicts\n",
      "Time: 76 no conflicts\n",
      "Time: 77 no conflicts\n",
      "replanning at time: 78\n",
      "agents replanned [human 8, human 13]\n",
      "Time: 78 no conflicts\n",
      "Time: 79 no conflicts\n",
      "Time: 80 no conflicts\n",
      "Time: 81 no conflicts\n",
      "Time: 82 no conflicts\n",
      "Time: 83 no conflicts\n",
      "Time: 84 no conflicts\n",
      "replanning at time: 85\n",
      "agents replanned [human 11, human 12]\n",
      "Time: 85 no conflicts\n",
      "Time: 86 no conflicts\n",
      "Time: 87 no conflicts\n",
      "Time: 88 no conflicts\n",
      "Time: 89 no conflicts\n",
      "Time: 90 no conflicts\n",
      "Time: 91 no conflicts\n",
      "Time: 92 no conflicts\n",
      "Time: 93 no conflicts\n",
      "Time: 94 no conflicts\n",
      "Time: 95 no conflicts\n",
      "Time: 96 no conflicts\n",
      "replanning at time: 97\n",
      "agents replanned [human 12, human 15]\n",
      "Time: 97 no conflicts\n",
      "Time: 98 no conflicts\n",
      "Time: 99 no conflicts\n",
      "Time: 100 no conflicts\n",
      "Time: 101 no conflicts\n",
      "Time: 102 no conflicts\n",
      "Time: 103 no conflicts\n",
      "Time: 104 no conflicts\n",
      "Time: 105 no conflicts\n",
      "Time: 106 no conflicts\n",
      "replanning at time: 107\n",
      "agents replanned [human 14, human 16]\n",
      "Time: 107 no conflicts\n",
      "Replan caused by wrong prediction at time 108\n",
      "Time: 108 no conflicts\n",
      "Time: 109 no conflicts\n",
      "replanning at time: 110\n",
      "agents replanned [human 15, human 16]\n",
      "Time: 110 no conflicts\n",
      "Time: 111 no conflicts\n",
      "Time: 112 no conflicts\n",
      "Time: 113 no conflicts\n",
      "replanning at time: 114\n",
      "agents replanned [human 14, Robot 0]\n",
      "robot stopped\n",
      "Time: 114 no conflicts\n",
      "Time: 115 no conflicts\n",
      "replanning at time: 116\n",
      "agents replanned [human 15, Robot 0]\n",
      "Time: 116 no conflicts\n",
      "Replan caused by wrong prediction at time 117\n",
      "Time: 117 no conflicts\n",
      "Time: 118 no conflicts\n",
      "Time: 119 no conflicts\n",
      "Time: 120 no conflicts\n",
      "Time: 121 no conflicts\n",
      "Time: 122 no conflicts\n",
      "Time: 123 no conflicts\n",
      "Time: 124 no conflicts\n",
      "Time: 125 no conflicts\n",
      "replanning at time: 126\n",
      "agents replanned [human 18, human 19]\n",
      "Time: 126 no conflicts\n",
      "Time: 127 no conflicts\n",
      "Time: 128 no conflicts\n",
      "Time: 129 no conflicts\n",
      "Time: 130 no conflicts\n",
      "replanning at time: 131\n",
      "agents replanned [human 17, Robot 0]\n",
      "robot stopped\n",
      "Time: 131 no conflicts\n",
      "Time: 132 no conflicts\n",
      "Time: 133 no conflicts\n",
      "Time: 134 no conflicts\n",
      "Time: 135 no conflicts\n",
      "Time: 136 no conflicts\n",
      "Time: 137 no conflicts\n",
      "Time: 138 no conflicts\n",
      "Time: 139 no conflicts\n",
      "Time: 140 no conflicts\n",
      "Time: 141 no conflicts\n",
      "Time: 142 no conflicts\n",
      "Time: 143 no conflicts\n",
      "Time: 144 no conflicts\n",
      "Time: 145 no conflicts\n",
      "Time: 146 no conflicts\n",
      "Time: 147 no conflicts\n",
      "Time: 148 no conflicts\n",
      "Time: 149 no conflicts\n",
      "Time: 150 no conflicts\n",
      "Time: 151 no conflicts\n",
      "Time: 152 no conflicts\n",
      "Time: 153 no conflicts\n",
      "Time: 154 no conflicts\n",
      "Time: 155 no conflicts\n",
      "Time: 156 no conflicts\n",
      "Time: 157 no conflicts\n",
      "Time: 158 no conflicts\n",
      "Time: 159 no conflicts\n",
      "Time: 160 no conflicts\n",
      "Time: 161 no conflicts\n",
      "Time: 162 no conflicts\n",
      "Time: 163 no conflicts\n",
      "Time: 164 no conflicts\n",
      "Time: 165 no conflicts\n",
      "Time: 166 no conflicts\n",
      "Time: 167 no conflicts\n",
      "Time: 168 no conflicts\n",
      "Time: 169 no conflicts\n",
      "Time: 170 no conflicts\n",
      "Time: 171 no conflicts\n",
      "Time: 172 no conflicts\n",
      "Time: 173 no conflicts\n",
      "Time: 174 no conflicts\n",
      "Time: 175 no conflicts\n",
      "Time: 176 no conflicts\n",
      "Time: 177 no conflicts\n",
      "Time: 178 no conflicts\n",
      "Time: 179 no conflicts\n",
      "Time: 180 no conflicts\n",
      "Time: 181 no conflicts\n",
      "Time: 182 no conflicts\n",
      "Time: 183 no conflicts\n",
      "Time: 184 no conflicts\n",
      "Time: 185 no conflicts\n",
      "Time: 186 no conflicts\n",
      "Time: 187 no conflicts\n",
      "Time: 188 no conflicts\n",
      "Time: 189 no conflicts\n",
      "Time: 190 no conflicts\n",
      "Time: 191 no conflicts\n",
      "obstacle[human 0, (3, 27)]\n",
      "obstacle[human 0, (3, 27)]\n",
      "obstacle[human 0, (4, 28)]\n",
      "obstacle[human 0, (5, 28)]\n",
      "obstacle[human 0, (5, 29)]\n",
      "obstacle[human 0, (6, 29)]\n",
      "obstacle[human 0, (7, 29)]\n",
      "obstacle[human 0, (7, 29)]\n",
      "obstacle[human 0, (7, 29)]\n",
      "obstacle[human 0, (7, 29)]\n",
      "obstacle[human 0, (7, 29)]\n",
      "obstacle[human 0, (7, 29)]\n",
      "obstacle[human 2, (12, 22)]\n",
      "obstacle[human 2, (12, 23)]\n",
      "obstacle[human 2, (12, 24)]\n",
      "obstacle[human 2, (12, 24)]\n",
      "obstacle[human 2, (12, 24)]\n",
      "obstacle[human 2, (12, 27)]\n",
      "obstacle[human 2, (13, 27)]\n",
      "obstacle[human 1, (3, 17)]\n",
      "obstacle[human 2, (12, 27)]\n",
      "obstacle[human 2, (13, 27)]\n",
      "obstacle[human 2, (13, 28)]\n",
      "obstacle[human 2, (13, 29)]\n",
      "obstacle[human 2, (13, 30)]\n",
      "obstacle[human 2, (13, 31)]\n",
      "obstacle[human 2, (13, 31)]\n",
      "obstacle[human 2, (13, 31)]\n",
      "obstacle[human 2, (13, 31)]\n",
      "obstacle[human 2, (13, 31)]\n",
      "obstacle[human 2, (13, 31)]\n",
      "obstacle[human 1, (3, 17)]\n",
      "obstacle[human 1, (3, 17)]\n",
      "obstacle[human 6, (12, 16)]\n",
      "obstacle[human 6, (12, 17)]\n",
      "obstacle[human 6, (12, 18)]\n",
      "obstacle[human 6, (12, 19)]\n",
      "obstacle[human 6, (12, 20)]\n",
      "obstacle[human 6, (12, 21)]\n",
      "obstacle[human 6, (12, 22)]\n",
      "obstacle[human 8, (11, 18)]\n",
      "obstacle[human 6, (12, 22)]\n",
      "obstacle[human 6, (12, 22)]\n",
      "obstacle[human 6, (12, 23)]\n",
      "obstacle[human 8, (14, 19)]\n",
      "obstacle[human 8, (15, 19)]\n",
      "obstacle[human 9, (12, 18)]\n",
      "obstacle[human 9, (12, 19)]\n",
      "obstacle[human 9, (12, 19)]\n",
      "obstacle[human 9, (12, 19)]\n",
      "obstacle[human 9, (12, 19)]\n",
      "obstacle[human 9, (12, 19)]\n",
      "obstacle[human 14, (13, 12)]\n",
      "obstacle[human 14, (13, 12)]\n",
      "obstacle[human 14, (14, 11)]\n",
      "obstacle[human 14, (14, 10)]\n",
      "obstacle[human 14, (14, 9)]\n",
      "obstacle[human 14, (14, 8)]\n",
      "obstacle[human 14, (14, 7)]\n",
      "obstacle[human 14, (14, 6)]\n",
      "obstacle[human 14, (14, 5)]\n",
      "obstacle[human 14, (14, 5)]\n",
      "obstacle[human 15, (13, 7)]\n",
      "obstacle[human 14, (14, 2)]\n",
      "obstacle[human 15, (14, 8)]\n",
      "obstacle[human 15, (13, 8)]\n",
      "obstacle[human 15, (13, 7)]\n",
      "obstacle[human 15, (13, 6)]\n",
      "obstacle[human 15, (13, 6)]\n",
      "obstacle[human 15, (13, 6)]\n",
      "obstacle[human 15, (13, 7)]\n",
      "obstacle[human 17, (13, 10)]\n",
      "obstacle[human 17, (14, 10)]\n",
      "obstacle[human 17, (14, 10)]\n",
      "obstacle[human 17, (14, 8)]\n",
      "obstacle[human 17, (14, 7)]\n",
      "obstacle[human 17, (14, 6)]\n",
      "obstacle[human 17, (14, 5)]\n",
      "obstacle[human 17, (14, 5)]\n",
      "obstacle[human 17, (14, 5)]\n",
      "obstacle[human 17, (14, 5)]\n",
      "obstacle[human 19, (13, 12)]\n",
      "obstacle[human 19, (13, 11)]\n",
      "obstacle[human 19, (13, 10)]\n",
      "obstacle[human 19, (13, 9)]\n",
      "obstacle[human 19, (13, 8)]\n",
      "obstacle[human 19, (13, 8)]\n",
      "obstacle[human 19, (13, 8)]\n",
      "obstacle[human 19, (13, 8)]\n",
      "obstacle[human 19, (13, 8)]\n",
      "obstacle[human 19, (13, 8)]\n",
      "obstacle[human 22, (11, 18)]\n"
     ]
    },
    {
     "name": "stdout",
     "output_type": "stream",
     "text": [
      "obstacle[human 22, (12, 18)]\n",
      "obstacle[human 22, (13, 18)]\n",
      "obstacle[human 22, (13, 17)]\n",
      "obstacle[human 22, (13, 16)]\n",
      "obstacle[human 22, (13, 15)]\n",
      "obstacle[human 22, (13, 15)]\n",
      "obstacle[human 22, (13, 15)]\n",
      "obstacle[human 22, (13, 15)]\n",
      "obstacle[human 22, (13, 15)]\n",
      "obstacle[human 24, (15, 18)]\n",
      "obstacle[human 24, (14, 18)]\n",
      "obstacle[human 24, (13, 18)]\n",
      "obstacle[human 24, (12, 18)]\n",
      "obstacle[human 24, (12, 18)]\n",
      "obstacle[human 24, (12, 18)]\n",
      "obstacle[human 24, (12, 18)]\n",
      "obstacle[human 24, (12, 18)]\n",
      "obstacle[human 24, (12, 18)]\n",
      "--------------------1-----------------------------\n"
     ]
    },
    {
     "ename": "KeyboardInterrupt",
     "evalue": "",
     "output_type": "error",
     "traceback": [
      "\u001b[1;31m---------------------------------------------------------------------------\u001b[0m",
      "\u001b[1;31mKeyboardInterrupt\u001b[0m                         Traceback (most recent call last)",
      "\u001b[1;32m<ipython-input-3-b108f8f4c2a7>\u001b[0m in \u001b[0;36m<module>\u001b[1;34m\u001b[0m\n\u001b[0;32m      4\u001b[0m \u001b[1;32mfor\u001b[0m \u001b[0mi\u001b[0m \u001b[1;32min\u001b[0m \u001b[0mrange\u001b[0m\u001b[1;33m(\u001b[0m\u001b[1;36m10\u001b[0m\u001b[1;33m)\u001b[0m\u001b[1;33m:\u001b[0m\u001b[1;33m\u001b[0m\u001b[0m\n\u001b[0;32m      5\u001b[0m     \u001b[0mprint\u001b[0m\u001b[1;33m(\u001b[0m\u001b[1;34m'--------------------'\u001b[0m \u001b[1;33m+\u001b[0m \u001b[0mstr\u001b[0m\u001b[1;33m(\u001b[0m\u001b[0mi\u001b[0m\u001b[1;33m)\u001b[0m \u001b[1;33m+\u001b[0m \u001b[1;34m'-----------------------------'\u001b[0m\u001b[1;33m)\u001b[0m\u001b[1;33m\u001b[0m\u001b[0m\n\u001b[1;32m----> 6\u001b[1;33m     \u001b[0mdata\u001b[0m \u001b[1;33m=\u001b[0m \u001b[0msimulate\u001b[0m\u001b[1;33m(\u001b[0m\u001b[0mtest_map\u001b[0m\u001b[1;33m,\u001b[0m \u001b[1;36m20\u001b[0m\u001b[1;33m,\u001b[0m \u001b[0mexperiments\u001b[0m\u001b[1;33m=\u001b[0m\u001b[1;33m[\u001b[0m\u001b[1;34m'AI'\u001b[0m\u001b[1;33m]\u001b[0m\u001b[1;33m,\u001b[0m\u001b[0mviz\u001b[0m\u001b[1;33m=\u001b[0m\u001b[1;32mTrue\u001b[0m\u001b[1;33m)\u001b[0m\u001b[1;33m\u001b[0m\u001b[0m\n\u001b[0m\u001b[0;32m      7\u001b[0m     \u001b[0mdata_all\u001b[0m \u001b[1;33m=\u001b[0m \u001b[0mdata_all\u001b[0m\u001b[1;33m.\u001b[0m\u001b[0mappend\u001b[0m\u001b[1;33m(\u001b[0m\u001b[0mdata\u001b[0m\u001b[1;33m,\u001b[0m \u001b[0mignore_index\u001b[0m\u001b[1;33m=\u001b[0m\u001b[1;32mTrue\u001b[0m\u001b[1;33m)\u001b[0m\u001b[1;33m\u001b[0m\u001b[0m\n",
      "\u001b[1;32m~\\OneDrive\\DTU\\Kandidat\\Hospitalsrobotter\\AI\\simulate.py\u001b[0m in \u001b[0;36msimulate\u001b[1;34m(m, h_n, experiments, viz)\u001b[0m\n\u001b[0;32m     33\u001b[0m     \u001b[0mG\u001b[0m \u001b[1;33m=\u001b[0m \u001b[0mglobal_costmap\u001b[0m\u001b[1;33m(\u001b[0m\u001b[0mG\u001b[0m\u001b[1;33m)\u001b[0m\u001b[1;33m\u001b[0m\u001b[0m\n\u001b[0;32m     34\u001b[0m \u001b[1;33m\u001b[0m\u001b[0m\n\u001b[1;32m---> 35\u001b[1;33m     \u001b[0mhumans\u001b[0m\u001b[1;33m,\u001b[0m \u001b[0mbeds\u001b[0m\u001b[1;33m,\u001b[0m \u001b[0mpredicates\u001b[0m\u001b[1;33m,\u001b[0m \u001b[0mobject_locations\u001b[0m \u001b[1;33m=\u001b[0m \u001b[0mhuman_init\u001b[0m\u001b[1;33m(\u001b[0m\u001b[0mG\u001b[0m\u001b[1;33m,\u001b[0m \u001b[0mh_n\u001b[0m\u001b[1;33m)\u001b[0m\u001b[1;33m\u001b[0m\u001b[0m\n\u001b[0m\u001b[0;32m     36\u001b[0m     \u001b[1;31m#print(object_locations)\u001b[0m\u001b[1;33m\u001b[0m\u001b[1;33m\u001b[0m\u001b[0m\n\u001b[0;32m     37\u001b[0m     \u001b[0moriginal_plans\u001b[0m \u001b[1;33m=\u001b[0m \u001b[1;33m[\u001b[0m\u001b[1;33m]\u001b[0m\u001b[1;33m\u001b[0m\u001b[0m\n",
      "\u001b[1;32m~\\OneDrive\\DTU\\Kandidat\\Hospitalsrobotter\\AI\\initialize.py\u001b[0m in \u001b[0;36mhuman_init\u001b[1;34m(G, h_n)\u001b[0m\n\u001b[0;32m     71\u001b[0m         \u001b[0mpreds\u001b[0m\u001b[1;33m.\u001b[0m\u001b[0madd\u001b[0m\u001b[1;33m(\u001b[0m\u001b[0mAgentAt\u001b[0m\u001b[1;33m(\u001b[0m\u001b[0mh\u001b[0m\u001b[1;33m,\u001b[0m \u001b[0mstart\u001b[0m\u001b[1;33m)\u001b[0m\u001b[1;33m)\u001b[0m\u001b[1;33m\u001b[0m\u001b[0m\n\u001b[0;32m     72\u001b[0m         \u001b[0mstate\u001b[0m \u001b[1;33m=\u001b[0m \u001b[0mState\u001b[0m\u001b[1;33m(\u001b[0m\u001b[0mG\u001b[0m\u001b[1;33m,\u001b[0m \u001b[1;36m0\u001b[0m\u001b[1;33m,\u001b[0m \u001b[1;36m0\u001b[0m\u001b[1;33m,\u001b[0m \u001b[0mpreds\u001b[0m\u001b[1;33m,\u001b[0m \u001b[1;33m{\u001b[0m\u001b[0mh\u001b[0m\u001b[1;33m:\u001b[0m \u001b[0mstart\u001b[0m\u001b[1;33m}\u001b[0m\u001b[1;33m,\u001b[0m \u001b[0mobject_locations\u001b[0m\u001b[1;33m)\u001b[0m\u001b[1;33m\u001b[0m\u001b[0m\n\u001b[1;32m---> 73\u001b[1;33m         \u001b[0mplan\u001b[0m \u001b[1;33m=\u001b[0m \u001b[0moffline_search\u001b[0m\u001b[1;33m(\u001b[0m\u001b[0mstate\u001b[0m\u001b[1;33m,\u001b[0m \u001b[0mh\u001b[0m\u001b[1;33m,\u001b[0m \u001b[0mgoal\u001b[0m\u001b[1;33m,\u001b[0m \u001b[0mmanhattan\u001b[0m\u001b[1;33m(\u001b[0m\u001b[0mh\u001b[0m\u001b[1;33m,\u001b[0m \u001b[0mgoal\u001b[0m\u001b[1;33m)\u001b[0m\u001b[1;33m,\u001b[0m \u001b[0mG\u001b[0m\u001b[1;33m)\u001b[0m \u001b[1;31m#calculate path to goal\u001b[0m\u001b[1;33m\u001b[0m\u001b[0m\n\u001b[0m\u001b[0;32m     74\u001b[0m \u001b[1;33m\u001b[0m\u001b[0m\n\u001b[0;32m     75\u001b[0m         \u001b[0mh\u001b[0m\u001b[1;33m.\u001b[0m\u001b[0mplan\u001b[0m \u001b[1;33m=\u001b[0m \u001b[1;33m[\u001b[0m\u001b[0mEnter\u001b[0m\u001b[1;33m(\u001b[0m\u001b[0mh\u001b[0m\u001b[1;33m)\u001b[0m\u001b[1;33m]\u001b[0m \u001b[1;33m+\u001b[0m \u001b[0mplan\u001b[0m \u001b[1;33m+\u001b[0m \u001b[1;33m[\u001b[0m\u001b[0mLeave\u001b[0m\u001b[1;33m(\u001b[0m\u001b[0mh\u001b[0m\u001b[1;33m)\u001b[0m\u001b[1;33m]\u001b[0m\u001b[1;33m\u001b[0m\u001b[0m\n",
      "\u001b[1;32m~\\OneDrive\\DTU\\Kandidat\\Hospitalsrobotter\\AI\\offline_search.py\u001b[0m in \u001b[0;36moffline_search\u001b[1;34m(state, agent, goal, heuristic, G, time)\u001b[0m\n\u001b[0;32m     39\u001b[0m             \u001b[1;32mreturn\u001b[0m \u001b[0mbacktrack\u001b[0m\u001b[1;33m(\u001b[0m\u001b[0mleaf\u001b[0m\u001b[1;33m,\u001b[0m \u001b[0mtime\u001b[0m\u001b[1;33m)\u001b[0m\u001b[1;33m\u001b[0m\u001b[0m\n\u001b[0;32m     40\u001b[0m \u001b[1;33m\u001b[0m\u001b[0m\n\u001b[1;32m---> 41\u001b[1;33m         \u001b[0mchildren\u001b[0m \u001b[1;33m=\u001b[0m \u001b[0mget_children\u001b[0m\u001b[1;33m(\u001b[0m\u001b[0mleaf\u001b[0m\u001b[1;33m,\u001b[0m \u001b[0magent\u001b[0m\u001b[1;33m,\u001b[0m \u001b[0mG\u001b[0m\u001b[1;33m)\u001b[0m\u001b[1;33m\u001b[0m\u001b[0m\n\u001b[0m\u001b[0;32m     42\u001b[0m         \u001b[1;32mfor\u001b[0m \u001b[0mchild\u001b[0m \u001b[1;32min\u001b[0m \u001b[0mchildren\u001b[0m\u001b[1;33m:\u001b[0m\u001b[1;33m\u001b[0m\u001b[0m\n\u001b[0;32m     43\u001b[0m             \u001b[1;32mif\u001b[0m \u001b[1;33m(\u001b[0m\u001b[0mchild\u001b[0m \u001b[1;32mnot\u001b[0m \u001b[1;32min\u001b[0m \u001b[0mvisited\u001b[0m\u001b[1;33m)\u001b[0m \u001b[1;32mor\u001b[0m \u001b[1;33m(\u001b[0m\u001b[0mchild\u001b[0m\u001b[1;33m.\u001b[0m\u001b[0mg\u001b[0m \u001b[1;33m<\u001b[0m \u001b[0mvisited\u001b[0m\u001b[1;33m[\u001b[0m\u001b[0mchild\u001b[0m\u001b[1;33m]\u001b[0m\u001b[1;33m)\u001b[0m\u001b[1;33m:\u001b[0m\u001b[1;33m\u001b[0m\u001b[0m\n",
      "\u001b[1;32m~\\OneDrive\\DTU\\Kandidat\\Hospitalsrobotter\\AI\\offline_search.py\u001b[0m in \u001b[0;36mget_children\u001b[1;34m(state, agent, G)\u001b[0m\n\u001b[0;32m     55\u001b[0m         \u001b[0ml_G\u001b[0m \u001b[1;33m=\u001b[0m \u001b[0mlocal_costmap\u001b[0m\u001b[1;33m(\u001b[0m\u001b[0mstate\u001b[0m\u001b[1;33m,\u001b[0m \u001b[0magent\u001b[0m\u001b[1;33m,\u001b[0m \u001b[0mstate\u001b[0m\u001b[1;33m.\u001b[0m\u001b[0mt\u001b[0m\u001b[1;33m,\u001b[0m \u001b[0mG\u001b[0m\u001b[1;33m.\u001b[0m\u001b[0mcopy\u001b[0m\u001b[1;33m(\u001b[0m\u001b[1;33m)\u001b[0m\u001b[1;33m)\u001b[0m\u001b[1;33m\u001b[0m\u001b[0m\n\u001b[0;32m     56\u001b[0m     \u001b[1;32melse\u001b[0m\u001b[1;33m:\u001b[0m\u001b[1;33m\u001b[0m\u001b[0m\n\u001b[1;32m---> 57\u001b[1;33m         \u001b[0ml_G\u001b[0m \u001b[1;33m=\u001b[0m \u001b[0mlocal_costmap_human\u001b[0m\u001b[1;33m(\u001b[0m\u001b[0mstate\u001b[0m\u001b[1;33m,\u001b[0m \u001b[0magent\u001b[0m\u001b[1;33m,\u001b[0m \u001b[0mstate\u001b[0m\u001b[1;33m.\u001b[0m\u001b[0mt\u001b[0m\u001b[1;33m,\u001b[0m \u001b[0mG\u001b[0m\u001b[1;33m.\u001b[0m\u001b[0mcopy\u001b[0m\u001b[1;33m(\u001b[0m\u001b[1;33m)\u001b[0m\u001b[1;33m)\u001b[0m\u001b[1;33m\u001b[0m\u001b[0m\n\u001b[0m\u001b[0;32m     58\u001b[0m     \u001b[1;32mfor\u001b[0m \u001b[0mdirection\u001b[0m \u001b[1;32min\u001b[0m \u001b[0mdirections\u001b[0m\u001b[1;33m:\u001b[0m\u001b[1;33m\u001b[0m\u001b[0m\n\u001b[0;32m     59\u001b[0m         \u001b[1;32mif\u001b[0m \u001b[0mtype\u001b[0m\u001b[1;33m(\u001b[0m\u001b[0magent\u001b[0m\u001b[1;33m)\u001b[0m \u001b[1;33m==\u001b[0m \u001b[0mhuman\u001b[0m\u001b[1;33m:\u001b[0m\u001b[1;33m\u001b[0m\u001b[0m\n",
      "\u001b[1;32m~\\Anaconda3\\lib\\site-packages\\networkx\\classes\\graph.py\u001b[0m in \u001b[0;36mcopy\u001b[1;34m(self, as_view)\u001b[0m\n\u001b[0;32m   1511\u001b[0m         \u001b[0mG\u001b[0m \u001b[1;33m=\u001b[0m \u001b[0mself\u001b[0m\u001b[1;33m.\u001b[0m\u001b[0m__class__\u001b[0m\u001b[1;33m(\u001b[0m\u001b[1;33m)\u001b[0m\u001b[1;33m\u001b[0m\u001b[0m\n\u001b[0;32m   1512\u001b[0m         \u001b[0mG\u001b[0m\u001b[1;33m.\u001b[0m\u001b[0mgraph\u001b[0m\u001b[1;33m.\u001b[0m\u001b[0mupdate\u001b[0m\u001b[1;33m(\u001b[0m\u001b[0mself\u001b[0m\u001b[1;33m.\u001b[0m\u001b[0mgraph\u001b[0m\u001b[1;33m)\u001b[0m\u001b[1;33m\u001b[0m\u001b[0m\n\u001b[1;32m-> 1513\u001b[1;33m         \u001b[0mG\u001b[0m\u001b[1;33m.\u001b[0m\u001b[0madd_nodes_from\u001b[0m\u001b[1;33m(\u001b[0m\u001b[1;33m(\u001b[0m\u001b[0mn\u001b[0m\u001b[1;33m,\u001b[0m \u001b[0md\u001b[0m\u001b[1;33m.\u001b[0m\u001b[0mcopy\u001b[0m\u001b[1;33m(\u001b[0m\u001b[1;33m)\u001b[0m\u001b[1;33m)\u001b[0m \u001b[1;32mfor\u001b[0m \u001b[0mn\u001b[0m\u001b[1;33m,\u001b[0m \u001b[0md\u001b[0m \u001b[1;32min\u001b[0m \u001b[0mself\u001b[0m\u001b[1;33m.\u001b[0m\u001b[0m_node\u001b[0m\u001b[1;33m.\u001b[0m\u001b[0mitems\u001b[0m\u001b[1;33m(\u001b[0m\u001b[1;33m)\u001b[0m\u001b[1;33m)\u001b[0m\u001b[1;33m\u001b[0m\u001b[0m\n\u001b[0m\u001b[0;32m   1514\u001b[0m         G.add_edges_from((u, v, datadict.copy())\n\u001b[0;32m   1515\u001b[0m                          \u001b[1;32mfor\u001b[0m \u001b[0mu\u001b[0m\u001b[1;33m,\u001b[0m \u001b[0mnbrs\u001b[0m \u001b[1;32min\u001b[0m \u001b[0mself\u001b[0m\u001b[1;33m.\u001b[0m\u001b[0m_adj\u001b[0m\u001b[1;33m.\u001b[0m\u001b[0mitems\u001b[0m\u001b[1;33m(\u001b[0m\u001b[1;33m)\u001b[0m\u001b[1;33m\u001b[0m\u001b[0m\n",
      "\u001b[1;32m~\\Anaconda3\\lib\\site-packages\\networkx\\classes\\graph.py\u001b[0m in \u001b[0;36madd_nodes_from\u001b[1;34m(self, nodes_for_adding, **attr)\u001b[0m\n\u001b[0;32m    570\u001b[0m             \u001b[1;31m# while pre-2.7.5 ironpython throws on self._adj[n]\u001b[0m\u001b[1;33m\u001b[0m\u001b[1;33m\u001b[0m\u001b[0m\n\u001b[0;32m    571\u001b[0m             \u001b[1;32mtry\u001b[0m\u001b[1;33m:\u001b[0m\u001b[1;33m\u001b[0m\u001b[0m\n\u001b[1;32m--> 572\u001b[1;33m                 \u001b[1;32mif\u001b[0m \u001b[0mn\u001b[0m \u001b[1;32mnot\u001b[0m \u001b[1;32min\u001b[0m \u001b[0mself\u001b[0m\u001b[1;33m.\u001b[0m\u001b[0m_node\u001b[0m\u001b[1;33m:\u001b[0m\u001b[1;33m\u001b[0m\u001b[0m\n\u001b[0m\u001b[0;32m    573\u001b[0m                     \u001b[0mself\u001b[0m\u001b[1;33m.\u001b[0m\u001b[0m_adj\u001b[0m\u001b[1;33m[\u001b[0m\u001b[0mn\u001b[0m\u001b[1;33m]\u001b[0m \u001b[1;33m=\u001b[0m \u001b[0mself\u001b[0m\u001b[1;33m.\u001b[0m\u001b[0madjlist_inner_dict_factory\u001b[0m\u001b[1;33m(\u001b[0m\u001b[1;33m)\u001b[0m\u001b[1;33m\u001b[0m\u001b[0m\n\u001b[0;32m    574\u001b[0m                     \u001b[0mattr_dict\u001b[0m \u001b[1;33m=\u001b[0m \u001b[0mself\u001b[0m\u001b[1;33m.\u001b[0m\u001b[0m_node\u001b[0m\u001b[1;33m[\u001b[0m\u001b[0mn\u001b[0m\u001b[1;33m]\u001b[0m \u001b[1;33m=\u001b[0m \u001b[0mself\u001b[0m\u001b[1;33m.\u001b[0m\u001b[0mnode_attr_dict_factory\u001b[0m\u001b[1;33m(\u001b[0m\u001b[1;33m)\u001b[0m\u001b[1;33m\u001b[0m\u001b[0m\n",
      "\u001b[1;31mKeyboardInterrupt\u001b[0m: "
     ]
    }
   ],
   "source": [
    "data_all = pd.DataFrame()#columns=\\\n",
    "                        #['Baseline_Replan','Baseline_Rescue','Baseline_Close_1','Baseline_Close_2','Baseline_len','Baseline_h_len','Baseline_Robot_replan',\\\n",
    "                        # 'AI_Replan','AI_Rescue','AI_Close_1','AI_Close_2','AI_len','AI_h_len','AI_Robot_replan'])\n",
    "for i in range(10):\n",
    "    print('--------------------' + str(i) + '-----------------------------')\n",
    "    data = simulate(test_map, 20, experiments=['AI'],viz=True)\n",
    "    data_all = data_all.append(data, ignore_index=True)"
   ]
  },
  {
   "cell_type": "code",
   "execution_count": 7,
   "metadata": {},
   "outputs": [],
   "source": [
    "#data_all.to_csv('simulation_data.csv')"
   ]
  },
  {
   "cell_type": "code",
   "execution_count": 4,
   "metadata": {},
   "outputs": [
    {
     "data": {
      "text/html": [
       "<div>\n",
       "<style scoped>\n",
       "    .dataframe tbody tr th:only-of-type {\n",
       "        vertical-align: middle;\n",
       "    }\n",
       "\n",
       "    .dataframe tbody tr th {\n",
       "        vertical-align: top;\n",
       "    }\n",
       "\n",
       "    .dataframe thead th {\n",
       "        text-align: right;\n",
       "    }\n",
       "</style>\n",
       "<table border=\"1\" class=\"dataframe\">\n",
       "  <thead>\n",
       "    <tr style=\"text-align: right;\">\n",
       "      <th></th>\n",
       "      <th>AI_Replan</th>\n",
       "      <th>AI_Rescue</th>\n",
       "      <th>AI_Emergency_stop</th>\n",
       "      <th>AI_Close_1</th>\n",
       "      <th>AI_Close_2</th>\n",
       "      <th>AI_len</th>\n",
       "      <th>AI_h_len</th>\n",
       "      <th>AI_Robot_replan</th>\n",
       "      <th>AI_accuracy</th>\n",
       "    </tr>\n",
       "  </thead>\n",
       "  <tbody>\n",
       "    <tr>\n",
       "      <td>0</td>\n",
       "      <td>6.0</td>\n",
       "      <td>0.0</td>\n",
       "      <td>4.0</td>\n",
       "      <td>18.0</td>\n",
       "      <td>22.0</td>\n",
       "      <td>192.0</td>\n",
       "      <td>33.2</td>\n",
       "      <td>73.0</td>\n",
       "      <td>0.990006</td>\n",
       "    </tr>\n",
       "  </tbody>\n",
       "</table>\n",
       "</div>"
      ],
      "text/plain": [
       "   AI_Replan  AI_Rescue  AI_Emergency_stop  AI_Close_1  AI_Close_2  AI_len  \\\n",
       "0        6.0        0.0                4.0        18.0        22.0   192.0   \n",
       "\n",
       "   AI_h_len  AI_Robot_replan  AI_accuracy  \n",
       "0      33.2             73.0     0.990006  "
      ]
     },
     "execution_count": 4,
     "metadata": {},
     "output_type": "execute_result"
    }
   ],
   "source": [
    "data_all"
   ]
  },
  {
   "cell_type": "code",
   "execution_count": null,
   "metadata": {},
   "outputs": [],
   "source": [
    "t = torch.Tensor([[1,2,3,4]])\n",
    "torch.sort(t, 1)[1][0]"
   ]
  },
  {
   "cell_type": "code",
   "execution_count": null,
   "metadata": {},
   "outputs": [],
   "source": [
    "for x in torch.sort(t, 1)[1][0]:\n",
    "    print(x)\n",
    "    if x==1:\n",
    "        print('yes')"
   ]
  },
  {
   "cell_type": "code",
   "execution_count": null,
   "metadata": {},
   "outputs": [],
   "source": [
    "G, sprite_walls = parse_map(test_map)\n",
    "free_predicates = {Free((x,y)) for (x,y),att in G.nodes('type') if att in ['f','e','s']}\n",
    "object_locations = dict()\n",
    "\n",
    "start = (14,5)        \n",
    "goal = (14,0) #assign a random goal\n",
    "preds = free_predicates.copy()\n",
    "preds.add(AgentAt(0, start))\n",
    "        \n",
    "\n",
    "        \n",
    "h = human(0, start_pos=start, start_time=0, goal=goal)\n",
    "        \n",
    "state = State(G, 0, 0, preds, {h: start}, object_locations)\n",
    "#plan = offline_search(state, h, start, goal, manhattan(h, goal)) #calculate path to goal\n",
    "        \n",
    "#h.plan = [Enter(h)] + plan + [Leave(h)]"
   ]
  },
  {
   "cell_type": "code",
   "execution_count": null,
   "metadata": {},
   "outputs": [],
   "source": [
    "(0,16) in G.nodes()"
   ]
  },
  {
   "cell_type": "code",
   "execution_count": null,
   "metadata": {},
   "outputs": [],
   "source": [
    "parse_map(test_map)"
   ]
  },
  {
   "cell_type": "code",
   "execution_count": null,
   "metadata": {},
   "outputs": [],
   "source": [
    "from actions import *\n",
    "from state import *\n"
   ]
  },
  {
   "cell_type": "code",
   "execution_count": null,
   "metadata": {},
   "outputs": [],
   "source": [
    "m =\"\"\"wwwwwwww\n",
    "w 1    w\n",
    "w      w\n",
    "w   s  w\n",
    "w      w\n",
    "w      w\n",
    "w      w\n",
    "wwwwwwww\n",
    "\"\"\""
   ]
  },
  {
   "cell_type": "code",
   "execution_count": null,
   "metadata": {},
   "outputs": [],
   "source": [
    "m =\"\"\"wwwwwww\n",
    "w 1   w\n",
    "w     w\n",
    "w     w\n",
    "w     w\n",
    "w     w\n",
    "w r   w\n",
    "w     w\n",
    "w     w\n",
    "wwwwwww\n",
    "\"\"\""
   ]
  },
  {
   "cell_type": "code",
   "execution_count": null,
   "metadata": {},
   "outputs": [],
   "source": [
    "G, walls = parse_map(m)"
   ]
  },
  {
   "cell_type": "code",
   "execution_count": null,
   "metadata": {},
   "outputs": [],
   "source": [
    "G.nodes"
   ]
  },
  {
   "cell_type": "code",
   "execution_count": null,
   "metadata": {},
   "outputs": [],
   "source": [
    "free_predicates = {Free((x,y)) for (x,y),att in G.nodes('type') if att in ['f','e','s', 'b','goal','r']}\n",
    "start=(0,0)\n",
    "r = robot(0, start, start_time=0)\n",
    "h = human(0, start_pos=(3,7), start_time=0, goal=(1,1))\n",
    "preds = free_predicates.copy()\n",
    "preds.update([AgentAt(r, (x,y)) for (x,y) in r.get_full(start)])\n",
    "preds.update([AgentAt(h, h.start_pos)])\n",
    "preds.difference_update([Free((x,y)) for (x,y) in r.get_full(start)])\n",
    "preds.difference_update([Free(h.start_pos)])\n",
    "                    \n",
    "\n",
    "state = State(G, 0, 0, preds, {r: r.get_full(start), h: (1,6)}, {})\n",
    "r.predictions[(h, 0)] = (3,6) \n",
    "r.predictions[(h, 1)] = (3,5)\n",
    "r.predictions[(h, 2)] = (3,3)\n",
    "r.predictions[(h, 3)] = (3,4)\n",
    "r.predictions[(h, 4)] = (3,5)\n",
    "r.predictions[(h, 5)] = (3,6)\n",
    "r.predictions[(h, 6)] = (3,7)\n",
    "r.predictions[(h, 7)] = (3,8)\n",
    "r.dir_predictions[(h, 0)] = 0\n",
    "r.dir_predictions[(h, 1)] = 0\n",
    "r.dir_predictions[(h, 2)] = 1\n",
    "r.dir_predictions[(h, 3)] = 1\n",
    "r.dir_predictions[(h, 4)] = 1\n",
    "r.dir_predictions[(h, 5)] = 1\n",
    "r.dir_predictions[(h, 6)] = 1\n",
    "r.dir_predictions[(h, 7)] = 1\n",
    "goal = [(1,1),(1,2),(2,1),(2,2)]\n",
    "#r.plan = offline_search(state, r, goal, manhattan_robot(r, (1,1)), G)"
   ]
  },
  {
   "cell_type": "code",
   "execution_count": null,
   "metadata": {},
   "outputs": [],
   "source": [
    "l =local_costmap(state, r, 1, G)"
   ]
  },
  {
   "cell_type": "code",
   "execution_count": null,
   "metadata": {},
   "outputs": [],
   "source": [
    "l.nodes('cost')"
   ]
  },
  {
   "cell_type": "code",
   "execution_count": null,
   "metadata": {},
   "outputs": [],
   "source": [
    "from prediction import *\n",
    "from NN_helpers import *"
   ]
  },
  {
   "cell_type": "code",
   "execution_count": null,
   "metadata": {},
   "outputs": [],
   "source": [
    "model = Net()\n",
    "model.load_state_dict(torch.load('network2'))\n",
    "model.eval()"
   ]
  },
  {
   "cell_type": "code",
   "execution_count": null,
   "metadata": {},
   "outputs": [],
   "source": [
    "predict_NN(state, h, r, 6, model)"
   ]
  },
  {
   "cell_type": "code",
   "execution_count": null,
   "metadata": {},
   "outputs": [],
   "source": [
    "r.predictions"
   ]
  },
  {
   "cell_type": "code",
   "execution_count": null,
   "metadata": {},
   "outputs": [],
   "source": [
    "r.predictions"
   ]
  },
  {
   "cell_type": "code",
   "execution_count": null,
   "metadata": {},
   "outputs": [],
   "source": [
    "r.predictions[('a',1)] = (0,0)\n",
    "r.predictions[('a',2)] = (1,0)\n",
    "r.predictions[('b',1)] = (1,0)\n",
    "agent_dic = dict()\n",
    "for t in r.predictions.keys():\n",
    "    if t[1] in agent_dic:\n",
    "        agent_dic[t[1]].append(r.predictions[t])\n",
    "    else:\n",
    "        agent_dic[t[1]]=[r.predictions[t]]"
   ]
  },
  {
   "cell_type": "code",
   "execution_count": null,
   "metadata": {},
   "outputs": [],
   "source": [
    "agent_dic = dict()\n",
    "for pred in r.predictions.keys():\n",
    "    if pred[1] in agent_dic:\n",
    "        agent_dic[t[1]].append(r.predictions[pred])\n",
    "    else:\n",
    "        agent_dic[pred[1]]=[r.predictions[pred]]\n",
    "df = pd.DataFrame(columns=['time','query_state','sample1','sample2','sample3','sample4','sample5','direction'])\n",
    "df.time = list(range(10))\n",
    "t=6"
   ]
  },
  {
   "cell_type": "code",
   "execution_count": null,
   "metadata": {},
   "outputs": [],
   "source": [
    "df.at[0,'query_state'] = new_state(state.map, r.predictions[(h, t+0-1)], state.object_locations, agent_dic, t+0-1)"
   ]
  },
  {
   "cell_type": "code",
   "execution_count": null,
   "metadata": {},
   "outputs": [],
   "source": [
    "df.query_state[0]"
   ]
  },
  {
   "cell_type": "code",
   "execution_count": 6,
   "metadata": {},
   "outputs": [
    {
     "data": {
      "text/plain": [
       "15625"
      ]
     },
     "execution_count": 6,
     "metadata": {},
     "output_type": "execute_result"
    }
   ],
   "source": [
    "5*5*5*5*5*5"
   ]
  },
  {
   "cell_type": "code",
   "execution_count": 4,
   "metadata": {},
   "outputs": [],
   "source": [
    "d = dict()\n",
    "d[(1,1)] = 0"
   ]
  },
  {
   "cell_type": "code",
   "execution_count": 6,
   "metadata": {},
   "outputs": [],
   "source": [
    "del d[(1,1)]"
   ]
  },
  {
   "cell_type": "code",
   "execution_count": 7,
   "metadata": {},
   "outputs": [
    {
     "data": {
      "text/plain": [
       "{}"
      ]
     },
     "execution_count": 7,
     "metadata": {},
     "output_type": "execute_result"
    }
   ],
   "source": [
    "d"
   ]
  },
  {
   "cell_type": "code",
   "execution_count": null,
   "metadata": {},
   "outputs": [],
   "source": [
    "import matplotlib as mpl\n",
    "from matplotlib import pyplot as plt\n",
    "\n",
    "norm = mpl.colors.Normalize(vmin=0, vmax=10, clip=True)\n",
    "mapper = mpl.cm.ScalarMappable(norm=norm, cmap=mpl.cm.YlOrRd)\n",
    "\n",
    "plt.figure(figsize=(10,10))\n",
    "pos = {(x,y):(x,-y) for x,y in G.nodes()}\n",
    "d = dict(l.nodes(data='cost'))\n",
    "lab = {(x,y):str(x)+','+str(y) for x,y in l.nodes}\n",
    "nx.draw_networkx(l, labels = lab,\n",
    "        pos=pos, \n",
    "        node_color=[mapper.to_rgba(i) \n",
    "                    for i in d.values()],\n",
    "        alpha = 1,\n",
    "        with_labels=True,\n",
    "        node_size=3200,\n",
    "        edge_color='grey',\n",
    "        font_weight = 'normal')"
   ]
  }
 ],
 "metadata": {
  "kernelspec": {
   "display_name": "Python 3",
   "language": "python",
   "name": "python3"
  }
 },
 "nbformat": 4,
 "nbformat_minor": 4
}
