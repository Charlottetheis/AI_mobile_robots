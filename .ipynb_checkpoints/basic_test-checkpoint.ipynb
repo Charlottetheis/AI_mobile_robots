{
 "cells": [
  {
   "cell_type": "code",
   "execution_count": 1,
   "metadata": {},
   "outputs": [
    {
     "name": "stdout",
     "output_type": "stream",
     "text": [
      "pygame 1.9.6\n",
      "Hello from the pygame community. https://www.pygame.org/contribute.html\n"
     ]
    }
   ],
   "source": [
    "from state import *\n",
    "from graph_parser import *\n",
    "from predicates import *\n",
    "from actions import *\n",
    "from offline_search import *\n",
    "from simulate import *\n",
    "from costmap import *"
   ]
  },
  {
   "cell_type": "code",
   "execution_count": 2,
   "metadata": {},
   "outputs": [],
   "source": [
    "test_map =\"\"\"wwwwwwwwwwwwwweeeww\n",
    "wb       r        w\n",
    "wb                w\n",
    "wb                w\n",
    "wb   wwwwwwwww    w\n",
    "wb   w  b    w    w\n",
    "wb   w       w    w\n",
    "wb   w       w    w\n",
    "wb   w       w    w\n",
    "wb   wwwwwwwww    w\n",
    "wb          w     w\n",
    "w           w     w\n",
    "w           w     w\n",
    "wwwwwwwwwwwww     w\n",
    "            w     w\n",
    "            w     w\n",
    "            w     w\n",
    "wwwwwwwwwwwww     w\n",
    "w    b      w     w\n",
    "w           w     w\n",
    "w           w     w\n",
    "w           w     w\n",
    "w           w     w\n",
    "w           w     w\n",
    "w           ws    w\n",
    "w           w     w\n",
    "w           w     w\n",
    "w           w1    w\n",
    "w           w     w\n",
    "wwwwwwwwwwwwwwwwwww\"\"\""
   ]
  },
  {
   "cell_type": "code",
   "execution_count": 3,
   "metadata": {},
   "outputs": [],
   "source": [
    "test_map =\"\"\"wwwwwwwwwwwwwwweeewwwwwwwwwwwwwww\n",
    "wb                            b w\n",
    "wb                            b w\n",
    "wb                            b w\n",
    "wb   wwwwwwwww    wwwwwwwwww  b w\n",
    "wb   ws b    w    ws  b    w  b w\n",
    "wb   w            w        w    w\n",
    "wb   w     2      w        w    w\n",
    "wb   w       w  b w        w    w\n",
    "wb   wwwwwwwww  b w             w\n",
    "wb           w  b w             w\n",
    "w            w    w             w\n",
    "w                 w             w\n",
    "w                 wwwwwwwwww    w\n",
    "w                               w\n",
    "w                               w\n",
    "wwwwwwwwwwwww                   w\n",
    "e                               w\n",
    "e                             b w\n",
    "e                             b w\n",
    "wwwwwwwwwwwww                 b w\n",
    "ws   b      w                 b w\n",
    "w           w                 b w\n",
    "w                             b w\n",
    "w                             b w\n",
    "w                             b w\n",
    "w           wb                b w\n",
    "w           w                 b w\n",
    "w           w                 b w\n",
    "w           w                   w\n",
    "w1          wr                  w\n",
    "w           w                   w\n",
    "wwwwwwwwwwwwwwwwwwwweeewwwwwwwwww\"\"\""
   ]
  },
  {
   "cell_type": "code",
   "execution_count": 4,
   "metadata": {},
   "outputs": [],
   "source": [
    "test_map =\"\"\"wwwwwwwwwwwweeewwwwwwwwwww\n",
    "w  s b    w     w b   b  w\n",
    "w         w     w        w\n",
    "w         w     w        w\n",
    "w         w     w        w\n",
    "w         w              w\n",
    "w                        w\n",
    "w2              w        w\n",
    "w         wb    w      s w\n",
    "wwwwwww  wwb    wwwwwwwwww\n",
    "w s b     wb           b w\n",
    "w         wb           b w\n",
    "w         wb   ww        w\n",
    "w         wb   ww        w\n",
    "w         w    wwwww wwwww\n",
    "wwwwwwwwwww    ww3    b  w\n",
    "e              ww        w\n",
    "e              ww        e\n",
    "e                        w\n",
    "e                        w\n",
    "wwwwwwwwwww    www  wwwwww\n",
    "ws b   b  w    wb      b w\n",
    "w         w    w       b w\n",
    "w         w    w       b w\n",
    "w         w    w         w\n",
    "w         w    w         w\n",
    "www  wwwwww    wwwwww  www\n",
    "w               b wb   b w\n",
    "w                 w      w\n",
    "w     b   w       w      w\n",
    "w1        wr      w      w\n",
    "w         w       w     sw\n",
    "wwwwwwwwwwwwweeewwwwwwwwww\"\"\""
   ]
  },
  {
   "cell_type": "code",
   "execution_count": 5,
   "metadata": {
    "scrolled": true
   },
   "outputs": [
    {
     "name": "stdout",
     "output_type": "stream",
     "text": [
      "--------------------0-----------------------------\n",
      "AI\n"
     ]
    },
    {
     "name": "stderr",
     "output_type": "stream",
     "text": [
      "C:\\Users\\cfthe\\Anaconda3\\lib\\site-packages\\pandas\\core\\frame.py:7123: FutureWarning: Sorting because non-concatenation axis is not aligned. A future version\n",
      "of pandas will change to not sort by default.\n",
      "\n",
      "To accept the future behavior, pass 'sort=False'.\n",
      "\n",
      "To retain the current behavior and silence the warning, pass 'sort=True'.\n",
      "\n",
      "  sort=sort,\n"
     ]
    }
   ],
   "source": [
    "data_all = pd.DataFrame(columns=\\\n",
    "                        ['Baseline_Replan','Baseline_Rescue','Baseline_Close_1','Baseline_Close_2','Baseline_len','Baseline_h_len','Baseline_Robot_replan',\\\n",
    "                         'AI_Replan','AI_Rescue','AI_Close_1','AI_Close_2','AI_len','AI_h_len','AI_Robot_replan'])\n",
    "for i in range(1):\n",
    "    print('--------------------' + str(i) + '-----------------------------')\n",
    "    data = simulate(test_map, 20, experiments=['AI'],viz=False)\n",
    "    data_all = data_all.append(data, ignore_index=True)"
   ]
  },
  {
   "cell_type": "code",
   "execution_count": 6,
   "metadata": {},
   "outputs": [
    {
     "data": {
      "text/html": [
       "<div>\n",
       "<style scoped>\n",
       "    .dataframe tbody tr th:only-of-type {\n",
       "        vertical-align: middle;\n",
       "    }\n",
       "\n",
       "    .dataframe tbody tr th {\n",
       "        vertical-align: top;\n",
       "    }\n",
       "\n",
       "    .dataframe thead th {\n",
       "        text-align: right;\n",
       "    }\n",
       "</style>\n",
       "<table border=\"1\" class=\"dataframe\">\n",
       "  <thead>\n",
       "    <tr style=\"text-align: right;\">\n",
       "      <th></th>\n",
       "      <th>AI_Close_1</th>\n",
       "      <th>AI_Close_2</th>\n",
       "      <th>AI_Replan</th>\n",
       "      <th>AI_Rescue</th>\n",
       "      <th>AI_Robot_replan</th>\n",
       "      <th>AI_h_len</th>\n",
       "      <th>AI_len</th>\n",
       "      <th>Baseline_Close_1</th>\n",
       "      <th>Baseline_Close_2</th>\n",
       "      <th>Baseline_Replan</th>\n",
       "      <th>Baseline_Rescue</th>\n",
       "      <th>Baseline_Robot_replan</th>\n",
       "      <th>Baseline_h_len</th>\n",
       "      <th>Baseline_len</th>\n",
       "    </tr>\n",
       "  </thead>\n",
       "  <tbody>\n",
       "    <tr>\n",
       "      <td>0</td>\n",
       "      <td>6</td>\n",
       "      <td>8</td>\n",
       "      <td>0</td>\n",
       "      <td>0</td>\n",
       "      <td>10.0</td>\n",
       "      <td>31</td>\n",
       "      <td>154</td>\n",
       "      <td>0</td>\n",
       "      <td>0</td>\n",
       "      <td>0</td>\n",
       "      <td>0</td>\n",
       "      <td>0.0</td>\n",
       "      <td>0</td>\n",
       "      <td>0</td>\n",
       "    </tr>\n",
       "  </tbody>\n",
       "</table>\n",
       "</div>"
      ],
      "text/plain": [
       "  AI_Close_1 AI_Close_2 AI_Replan AI_Rescue  AI_Robot_replan AI_h_len AI_len  \\\n",
       "0          6          8         0         0             10.0       31    154   \n",
       "\n",
       "  Baseline_Close_1 Baseline_Close_2 Baseline_Replan Baseline_Rescue  \\\n",
       "0                0                0               0               0   \n",
       "\n",
       "   Baseline_Robot_replan Baseline_h_len Baseline_len  \n",
       "0                    0.0              0            0  "
      ]
     },
     "execution_count": 6,
     "metadata": {},
     "output_type": "execute_result"
    }
   ],
   "source": [
    "data_all"
   ]
  },
  {
   "cell_type": "code",
   "execution_count": 7,
   "metadata": {},
   "outputs": [],
   "source": [
    "G, sprite_walls = parse_map(test_map)\n",
    "free_predicates = {Free((x,y)) for (x,y),att in G.nodes('type') if att in ['f','e','s']}\n",
    "object_locations = dict()\n",
    "\n",
    "start = (14,5)        \n",
    "goal = (14,0) #assign a random goal\n",
    "preds = free_predicates.copy()\n",
    "preds.add(AgentAt(0, start))\n",
    "        \n",
    "\n",
    "        \n",
    "h = human(0, start_pos=start, start_time=0, goal=goal)\n",
    "        \n",
    "state = State(G, 0, 0, preds, {h: start}, object_locations)\n",
    "#plan = offline_search(state, h, start, goal, manhattan(h, goal)) #calculate path to goal\n",
    "        \n",
    "#h.plan = [Enter(h)] + plan + [Leave(h)]"
   ]
  },
  {
   "cell_type": "code",
   "execution_count": 8,
   "metadata": {},
   "outputs": [
    {
     "data": {
      "text/plain": [
       "(<networkx.classes.graph.Graph at 0x21544df1cf8>, <RenderUpdates(218 sprites)>)"
      ]
     },
     "execution_count": 8,
     "metadata": {},
     "output_type": "execute_result"
    }
   ],
   "source": [
    "parse_map(test_map)"
   ]
  },
  {
   "cell_type": "code",
   "execution_count": 9,
   "metadata": {},
   "outputs": [],
   "source": [
    "from actions import *\n",
    "from state import *\n"
   ]
  },
  {
   "cell_type": "code",
   "execution_count": 10,
   "metadata": {},
   "outputs": [],
   "source": [
    "m =\"\"\"wwwwwww\n",
    "w 1   w\n",
    "w     w\n",
    "w     w\n",
    "w     w\n",
    "w     w\n",
    "w r   w\n",
    "w     w\n",
    "w     w\n",
    "wwwwwww\n",
    "\"\"\""
   ]
  },
  {
   "cell_type": "code",
   "execution_count": 11,
   "metadata": {},
   "outputs": [],
   "source": [
    "m =\"\"\"wwwwwwww\n",
    "w 1    w\n",
    "w      w\n",
    "w   s  w\n",
    "w      w\n",
    "w      w\n",
    "w      w\n",
    "wwwwwwww\n",
    "\"\"\""
   ]
  },
  {
   "cell_type": "code",
   "execution_count": 12,
   "metadata": {},
   "outputs": [],
   "source": [
    "G, walls = parse_map(m)"
   ]
  },
  {
   "cell_type": "code",
   "execution_count": 13,
   "metadata": {},
   "outputs": [],
   "source": [
    "free_predicates = {Free((x,y)) for (x,y),att in G.nodes('type') if att in ['f','e','s', 'b','goal','r']}\n",
    "start=(0,0)\n",
    "r = robot(0, start, start_time=0)\n",
    "h = human(0, start_pos=(4,3), start_time=0, goal=(1,1))\n",
    "preds = free_predicates.copy()\n",
    "preds.update([AgentAt(r, (x,y)) for (x,y) in r.get_full(start)])\n",
    "preds.update([AgentAt(h, h.start_pos)])\n",
    "preds.difference_update([Free((x,y)) for (x,y) in r.get_full(start)])\n",
    "preds.difference_update([Free(h.start_pos)])\n",
    "                    \n",
    "\n",
    "state = State(G, 0, 0, preds, {r: r.get_full(start), h: (4,3)}, {})\n",
    "r.predictions[(h, 0)] = MoveAction(state, h, N())   \n",
    "goal = [(1,1),(1,2),(2,1),(2,2)]\n",
    "#r.plan = offline_search(state, r, goal, manhattan_robot(r, (1,1)), G)"
   ]
  },
  {
   "cell_type": "code",
   "execution_count": 14,
   "metadata": {},
   "outputs": [],
   "source": [
    "r.predictions[(h, 1)] = MoveAction(state, h, N()) "
   ]
  },
  {
   "cell_type": "code",
   "execution_count": 15,
   "metadata": {},
   "outputs": [],
   "source": [
    "l = local_costmap(state, r, 0, G.copy())"
   ]
  },
  {
   "cell_type": "code",
   "execution_count": 16,
   "metadata": {},
   "outputs": [
    {
     "name": "stdout",
     "output_type": "stream",
     "text": [
      "[((1, 1), 0), ((1, 2), 0), ((1, 3), 0), ((1, 4), 0), ((1, 5), 0), ((1, 6), 0), ((2, 1), 0), ((2, 2), 0), ((2, 3), 0), ((2, 4), 0), ((2, 5), 0), ((2, 6), 0), ((3, 1), 0), ((3, 2), 2), ((3, 3), 2), ((3, 4), 0), ((3, 5), 0), ((3, 6), 0), ((4, 1), 6), ((4, 2), 100), ((4, 3), 100), ((4, 4), 2), ((4, 5), 0), ((4, 6), 0), ((5, 1), 2), ((5, 2), 6), ((5, 3), 6), ((5, 4), 0), ((5, 5), 0), ((5, 6), 0), ((6, 1), 0), ((6, 2), 2), ((6, 3), 2), ((6, 4), 0), ((6, 5), 0), ((6, 6), 0)]\n"
     ]
    }
   ],
   "source": [
    "print(l.nodes(data='cost'))"
   ]
  },
  {
   "cell_type": "code",
   "execution_count": 17,
   "metadata": {},
   "outputs": [
    {
     "ename": "IndexError",
     "evalue": "list index out of range",
     "output_type": "error",
     "traceback": [
      "\u001b[1;31m---------------------------------------------------------------------------\u001b[0m",
      "\u001b[1;31mIndexError\u001b[0m                                Traceback (most recent call last)",
      "\u001b[1;32m<ipython-input-17-4aad20add05a>\u001b[0m in \u001b[0;36m<module>\u001b[1;34m\u001b[0m\n\u001b[1;32m----> 1\u001b[1;33m \u001b[0mstate\u001b[0m \u001b[1;33m=\u001b[0m \u001b[0mstate\u001b[0m\u001b[1;33m.\u001b[0m\u001b[0mderive_state\u001b[0m\u001b[1;33m(\u001b[0m\u001b[1;33m[\u001b[0m\u001b[0mr\u001b[0m\u001b[1;33m.\u001b[0m\u001b[0mplan\u001b[0m\u001b[1;33m[\u001b[0m\u001b[1;36m1\u001b[0m\u001b[1;33m]\u001b[0m\u001b[1;33m]\u001b[0m\u001b[1;33m,\u001b[0m \u001b[0mG\u001b[0m\u001b[1;33m=\u001b[0m\u001b[0ml\u001b[0m\u001b[1;33m)\u001b[0m\u001b[1;33m\u001b[0m\u001b[0m\n\u001b[0m",
      "\u001b[1;31mIndexError\u001b[0m: list index out of range"
     ]
    }
   ],
   "source": [
    "state = state.derive_state([r.plan[1]], G=l)"
   ]
  },
  {
   "cell_type": "code",
   "execution_count": null,
   "metadata": {},
   "outputs": [],
   "source": [
    "r.plan"
   ]
  },
  {
   "cell_type": "code",
   "execution_count": null,
   "metadata": {},
   "outputs": [],
   "source": [
    "state.g"
   ]
  },
  {
   "cell_type": "code",
   "execution_count": null,
   "metadata": {},
   "outputs": [],
   "source": [
    "import matplotlib as mpl\n",
    "from matplotlib import pyplot as plt\n",
    "\n",
    "norm = mpl.colors.Normalize(vmin=0, vmax=10, clip=True)\n",
    "mapper = mpl.cm.ScalarMappable(norm=norm, cmap=mpl.cm.YlOrRd)\n",
    "\n",
    "plt.figure(figsize=(10,10))\n",
    "pos = {(x,y):(x,-y) for x,y in G.nodes()}\n",
    "d = dict(l.nodes(data='cost'))\n",
    "lab = {(x,y):str(x)+','+str(y) for x,y in l.nodes}\n",
    "nx.draw_networkx(l, labels = lab,\n",
    "        pos=pos, \n",
    "        node_color=[mapper.to_rgba(i) \n",
    "                    for i in d.values()],\n",
    "        alpha = 1,\n",
    "        with_labels=True,\n",
    "        node_size=3200,\n",
    "        edge_color='grey',\n",
    "        font_weight = 'normal')"
   ]
  },
  {
   "cell_type": "code",
   "execution_count": null,
   "metadata": {},
   "outputs": [],
   "source": [
    "state2 = State(G, 2, 3, preds, {r: r.get_full(start), h: (3,3)}, {})"
   ]
  },
  {
   "cell_type": "code",
   "execution_count": null,
   "metadata": {},
   "outputs": [],
   "source": [
    "state in [state2]"
   ]
  },
  {
   "cell_type": "code",
   "execution_count": null,
   "metadata": {},
   "outputs": [],
   "source": [
    "4 in chain.from_iterable(d.values())"
   ]
  },
  {
   "cell_type": "code",
   "execution_count": null,
   "metadata": {},
   "outputs": [],
   "source": [
    "list(d.values())"
   ]
  },
  {
   "cell_type": "code",
   "execution_count": null,
   "metadata": {},
   "outputs": [],
   "source": [
    "[pr in {1,2,3,4} for pr in {1,2}]"
   ]
  },
  {
   "cell_type": "code",
   "execution_count": null,
   "metadata": {},
   "outputs": [],
   "source": [
    "frontier = PriorityQueue()\n",
    "frontier.put(1,'a')\n",
    "frontier.put(2,'b')\n",
    "frontier.put(3,'c')"
   ]
  },
  {
   "cell_type": "code",
   "execution_count": null,
   "metadata": {},
   "outputs": [],
   "source": [
    "'a' in frontier"
   ]
  },
  {
   "cell_type": "code",
   "execution_count": null,
   "metadata": {},
   "outputs": [],
   "source": [
    "list(range(-10,10))"
   ]
  },
  {
   "cell_type": "code",
   "execution_count": null,
   "metadata": {},
   "outputs": [],
   "source": [
    "s = {'a':1,'b':2,'c':3,'d':4}"
   ]
  },
  {
   "cell_type": "code",
   "execution_count": null,
   "metadata": {},
   "outputs": [],
   "source": [
    "del s['a']"
   ]
  },
  {
   "cell_type": "code",
   "execution_count": null,
   "metadata": {},
   "outputs": [],
   "source": [
    "s.add(8)"
   ]
  },
  {
   "cell_type": "code",
   "execution_count": null,
   "metadata": {},
   "outputs": [],
   "source": [
    "list(range(2-1,2+2))"
   ]
  },
  {
   "cell_type": "code",
   "execution_count": null,
   "metadata": {},
   "outputs": [],
   "source": [
    "state = State(G, 0, 0, preds, {r: r.get_full(start), h: (3,3)}, {})"
   ]
  },
  {
   "cell_type": "code",
   "execution_count": null,
   "metadata": {},
   "outputs": [],
   "source": [
    "l = [tuple(sum(x) for x in zip(x,(0,0))) for x in [(0,0), (0,-1), (0,1), (0,2), (0,-2), (1,0), (-1,0), (1,1), (1,-1), (-1,1), (-1,-1), (1,2), (1,-2), (-1,2), (-1,-2),(2,0), (-2,0), (2,1), (2,-1), (-2,1), (-2,-1), (2,2), (2,-2), (-2,2), (-2, -2)]]"
   ]
  },
  {
   "cell_type": "code",
   "execution_count": null,
   "metadata": {},
   "outputs": [],
   "source": [
    " a = np.zeros([5,5])"
   ]
  },
  {
   "cell_type": "code",
   "execution_count": null,
   "metadata": {},
   "outputs": [],
   "source": [
    "a[2,2] = 1"
   ]
  },
  {
   "cell_type": "code",
   "execution_count": null,
   "metadata": {},
   "outputs": [],
   "source": [
    "set([3,3,2]) == set([2,3])"
   ]
  },
  {
   "cell_type": "code",
   "execution_count": null,
   "metadata": {},
   "outputs": [],
   "source": [
    "h1 = human(0, (0,0), 0, goal=None, offline_plan=[MoveAction(state, h, N())])\n",
    "h2 = human(1, (0,0), 0, goal=None, offline_plan=[1,2,3,4])"
   ]
  },
  {
   "cell_type": "code",
   "execution_count": null,
   "metadata": {},
   "outputs": [],
   "source": [
    "humans = [h1,h2]"
   ]
  },
  {
   "cell_type": "code",
   "execution_count": null,
   "metadata": {},
   "outputs": [],
   "source": [
    "plans = []\n",
    "for h in humans:\n",
    "    plans.append(h.plan.copy())"
   ]
  },
  {
   "cell_type": "code",
   "execution_count": null,
   "metadata": {},
   "outputs": [],
   "source": [
    "for i,h in enumerate(humans):\n",
    "    h.plan = plans[i]\n",
    "    "
   ]
  },
  {
   "cell_type": "code",
   "execution_count": null,
   "metadata": {},
   "outputs": [],
   "source": [
    "humans_c[0].plan[0:0] = 't'"
   ]
  },
  {
   "cell_type": "code",
   "execution_count": null,
   "metadata": {},
   "outputs": [],
   "source": [
    "h1.plan[0:0] = 't'"
   ]
  },
  {
   "cell_type": "code",
   "execution_count": null,
   "metadata": {},
   "outputs": [],
   "source": [
    "import pandas as pd"
   ]
  },
  {
   "cell_type": "code",
   "execution_count": null,
   "metadata": {},
   "outputs": [],
   "source": [
    "data = pd.DataFrame([[0,0,0,0,0,0,0,0]],columns=['Baseline_Replan','Baseline_Rescue','Baseline_Close_1','Baseline_Close_2',\\\n",
    "                                'AI_Replan','AI_Rescue','AI_Close_1','AI_Close_2'])"
   ]
  },
  {
   "cell_type": "code",
   "execution_count": null,
   "metadata": {},
   "outputs": [],
   "source": [
    "data.at[0,'Baseline_Replan'] = 1"
   ]
  },
  {
   "cell_type": "code",
   "execution_count": null,
   "metadata": {},
   "outputs": [],
   "source": [
    "data"
   ]
  },
  {
   "cell_type": "code",
   "execution_count": null,
   "metadata": {},
   "outputs": [],
   "source": []
  }
 ],
 "metadata": {
  "kernelspec": {
   "display_name": "Python 3",
   "language": "python",
   "name": "python3"
  },
  "language_info": {
   "codemirror_mode": {
    "name": "ipython",
    "version": 3
   },
   "file_extension": ".py",
   "mimetype": "text/x-python",
   "name": "python",
   "nbconvert_exporter": "python",
   "pygments_lexer": "ipython3",
   "version": "3.6.5"
  }
 },
 "nbformat": 4,
 "nbformat_minor": 4
}
