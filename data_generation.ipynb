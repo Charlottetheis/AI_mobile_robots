{
 "cells": [
  {
   "cell_type": "code",
   "execution_count": 1,
   "metadata": {},
   "outputs": [
    {
     "name": "stdout",
     "output_type": "stream",
     "text": [
      "pygame 1.9.6\n",
      "Hello from the pygame community. https://www.pygame.org/contribute.html\n"
     ]
    }
   ],
   "source": [
    "from data_generator import *\n",
    "import pandas as pd\n",
    "from ast import literal_eval"
   ]
  },
  {
   "cell_type": "code",
   "execution_count": 2,
   "metadata": {},
   "outputs": [],
   "source": [
    "from NN_helpers import *\n",
    "import matplotlib.pyplot as plt\n"
   ]
  },
  {
   "cell_type": "code",
   "execution_count": 3,
   "metadata": {},
   "outputs": [],
   "source": [
    "test_map =\"\"\"wwwwwwwwwwwweeewwwwwwwwwww\n",
    "w  s b    w     w b   b  w\n",
    "w         w     w        w\n",
    "w         w     w        w\n",
    "w         w     w        w\n",
    "w         w              w\n",
    "w                        w\n",
    "w2              w        w\n",
    "w         wb    w      s w\n",
    "wwwwwww  wwb    wwwwwwwwww\n",
    "w s b     wb           b w\n",
    "w         wb           b w\n",
    "w         wb   ww        w\n",
    "w         wb   ww        w\n",
    "w         w    wwwww wwwww\n",
    "wwwwwwwwwww    ww3    b  w\n",
    "e              ww        w\n",
    "e              ww        e\n",
    "e                        w\n",
    "e                        w\n",
    "wwwwwwwwwww    www  wwwwww\n",
    "ws b   b  w    wb      b w\n",
    "w         w    w       b w\n",
    "w         w    w       b w\n",
    "w         w    w         w\n",
    "w         w    w         w\n",
    "www  wwwwww    wwwwww  www\n",
    "w               b wb   b w\n",
    "w                 w      w\n",
    "w     b   w       w      w\n",
    "w1        wr      w      w\n",
    "w         w       w     sw\n",
    "wwwwwwwwwwwwweeewwwwwwwwww\"\"\""
   ]
  },
  {
   "cell_type": "code",
   "execution_count": 4,
   "metadata": {},
   "outputs": [],
   "source": [
    "data, G, obj_dir = generate(test_map, 20)\n",
    "data['run'] = 0\n",
    "for i in range(1,10):\n",
    "    d2, G, obj_dir = generate(test_map, 20)\n",
    "    d2['run'] = i\n",
    "    data = data.append(d2,ignore_index=True)"
   ]
  },
  {
   "cell_type": "code",
   "execution_count": 59,
   "metadata": {},
   "outputs": [],
   "source": [
    "data, G, obj_dir = generate(test_map, 20)\n",
    "data['run'] = 0"
   ]
  },
  {
   "cell_type": "code",
   "execution_count": 60,
   "metadata": {},
   "outputs": [],
   "source": [
    "data = data.sort_values(['run','agent','time'])"
   ]
  },
  {
   "cell_type": "code",
   "execution_count": 61,
   "metadata": {},
   "outputs": [],
   "source": [
    "data = data.reset_index()"
   ]
  },
  {
   "cell_type": "code",
   "execution_count": 62,
   "metadata": {},
   "outputs": [],
   "source": [
    "data_linear = data.copy()\n",
    "data_linear['true_agent_loc'] = data_linear['agent_loc']\n",
    "data_linear['predict_loc'] = [(0,0)]*len(data_linear)\n",
    "data_linear['prediction'] = [[0,0,0,0,0]]*len(data_linear)\n",
    "for idx in data_linear.index:\n",
    "    if data_linear.at[idx, 'time'] > 1:\n",
    "        data_linear.at[idx, 'prediction'] = data_linear.at[idx-1, 'direction']\n",
    "data_linear = data_linear.drop(list(data_linear[data_linear.time<2].index))"
   ]
  },
  {
   "cell_type": "code",
   "execution_count": 63,
   "metadata": {},
   "outputs": [],
   "source": [
    "for i in range(data.shape[0]):\n",
    "    if data.loc[i]['time'] > 5:\n",
    "        data.loc[i,'sample1'] = data.loc[i-1]['query_state']\n",
    "        data.loc[i,'sample2'] = data.loc[i-2]['query_state'] \n",
    "        data.loc[i,'sample3'] = data.loc[i-3]['query_state'] \n",
    "        data.loc[i,'sample4'] = data.loc[i-4]['query_state']\n",
    "        data.loc[i,'sample5'] = data.loc[i-5]['query_state']\n",
    "\n",
    "        \n",
    "data = data.dropna()\n",
    "data['predict_loc'] = [(0,0)]*len(data)\n",
    "data['true_agent_loc'] = data['agent_loc']"
   ]
  },
  {
   "cell_type": "code",
   "execution_count": 64,
   "metadata": {},
   "outputs": [],
   "source": [
    "#data.target = data.direction.apply(literal_eval)\n",
    "data.sample1 = data.sample1.fillna('[]').apply(literal_eval)\n",
    "data.sample2 = data.sample2.fillna('[]').apply(literal_eval)\n",
    "data.sample3 = data.sample3.fillna('[]').apply(literal_eval)\n",
    "data.sample4 = data.sample4.fillna('[]').apply(literal_eval)\n",
    "data.sample5 = data.sample5.fillna('[]').apply(literal_eval)\n",
    "data.query_state = data.fillna('[]').query_state.apply(literal_eval)"
   ]
  },
  {
   "cell_type": "code",
   "execution_count": 65,
   "metadata": {},
   "outputs": [
    {
     "data": {
      "text/plain": [
       "Net(\n",
       "  (conv_1): Conv2d(8, 8, kernel_size=(3, 3), stride=(1, 1), padding=(1, 1))\n",
       "  (lstm): ConvLSTM(\n",
       "    (cell_list): ModuleList(\n",
       "      (0): ConvLSTMCell(\n",
       "        (conv): Conv2d(24, 64, kernel_size=(3, 3), stride=(1, 1), padding=(1, 1))\n",
       "      )\n",
       "    )\n",
       "  )\n",
       "  (pool): AvgPool3d(kernel_size=2, stride=2, padding=0)\n",
       "  (l_sample): Linear(in_features=200, out_features=121, bias=True)\n",
       "  (conv_2): Conv2d(4, 32, kernel_size=(3, 3), stride=(1, 1), padding=(1, 1))\n",
       "  (conv_3): Conv2d(32, 32, kernel_size=(3, 3), stride=(1, 1), padding=(1, 1))\n",
       "  (dropout): Dropout2d(p=0.5, inplace=False)\n",
       "  (batch1): BatchNorm2d(8, eps=1e-05, momentum=0.1, affine=True, track_running_stats=True)\n",
       "  (batch2): BatchNorm2d(16, eps=1e-05, momentum=0.1, affine=True, track_running_stats=True)\n",
       "  (fc): Linear(in_features=400, out_features=100, bias=True)\n",
       "  (l_out): Linear(in_features=100, out_features=5, bias=False)\n",
       ")"
      ]
     },
     "execution_count": 65,
     "metadata": {},
     "output_type": "execute_result"
    }
   ],
   "source": [
    "model = Net()\n",
    "model.load_state_dict(torch.load('network2'))\n",
    "model.eval()"
   ]
  },
  {
   "cell_type": "code",
   "execution_count": 66,
   "metadata": {},
   "outputs": [],
   "source": [
    "def predict_linear(data):\n",
    "    for idx in data.index:\n",
    "        data.at[idx,'predict_loc'] = pred_to_action(data.at[idx,'prediction'].index(1),data.at[idx,'agent_loc'])\n",
    "        data.at[idx,'accuracy'] = data.at[idx,'prediction']==data.at[idx,'direction']\n",
    "        data.at[idx,'pos_acc'] = data.at[idx,'agent_loc']==data.at[idx,'true_agent_loc']\n",
    "        if euclidean_dist(data.at[idx,'agent_loc'], data.at[idx,'true_agent_loc']) < 3:\n",
    "            data.at[idx,'pos_acc_2'] = 1\n",
    "        else:\n",
    "            data.at[idx,'pos_acc_2'] = 0\n",
    "    return data"
   ]
  },
  {
   "cell_type": "code",
   "execution_count": 67,
   "metadata": {},
   "outputs": [],
   "source": [
    "def linear_data(data):\n",
    "    data_2 = data.copy()\n",
    "    min_time = min(data.time)\n",
    "    for idx in data.index:\n",
    "        if data_2.at[idx, 'time'] > min_time:\n",
    "            data_2.at[idx,'prediction'] = data.at[idx-1,'prediction']\n",
    "            data_2.at[idx,'agent_loc'] = data.at[idx-1,'predict_loc']\n",
    "    data_2 = data_2.drop(list(data_2[data_2.time==min_time].index))\n",
    "    return data_2"
   ]
  },
  {
   "cell_type": "code",
   "execution_count": 68,
   "metadata": {},
   "outputs": [
    {
     "data": {
      "text/plain": [
       "2.8284271247461903"
      ]
     },
     "execution_count": 68,
     "metadata": {},
     "output_type": "execute_result"
    }
   ],
   "source": [
    "euclidean_dist((0,0),(2,2))"
   ]
  },
  {
   "cell_type": "code",
   "execution_count": 69,
   "metadata": {},
   "outputs": [],
   "source": [
    "from heuristics import *"
   ]
  },
  {
   "cell_type": "code",
   "execution_count": 70,
   "metadata": {},
   "outputs": [
    {
     "name": "stdout",
     "output_type": "stream",
     "text": [
      "Prediction for time step 0\n",
      "(634, 19)\n",
      "0.9400630914826499\n",
      "1.0\n",
      "0.9400630914826499\n",
      "0.9400630914826499\n",
      "1.0\n",
      "Prediction for time step 0\n",
      "(730, 14)\n",
      "0.7438356164383562\n",
      "1.0\n",
      "0.7438356164383562\n",
      "1.0\n",
      "Prediction for time step 1\n",
      "(610, 19)\n",
      "0.9065573770491804\n",
      "0.9393442622950819\n",
      "0.8852459016393442\n",
      "0.9424083769633508\n",
      "1.0\n",
      "Prediction for time step 1\n",
      "(706, 14)\n",
      "0.7478753541076487\n",
      "0.7492917847025495\n",
      "0.6274787535410765\n",
      "1.0\n",
      "Prediction for time step 2\n",
      "(586, 19)\n",
      "0.8686006825938567\n",
      "0.8959044368600683\n",
      "0.8361774744027304\n",
      "0.9333333333333333\n",
      "0.9880546075085325\n",
      "Prediction for time step 2\n",
      "(682, 14)\n",
      "0.7126099706744868\n",
      "0.6348973607038123\n",
      "0.533724340175953\n",
      "0.9926686217008798\n",
      "Prediction for time step 3\n",
      "(562, 19)\n",
      "0.8327402135231317\n",
      "0.8487544483985765\n",
      "0.7882562277580071\n",
      "0.9287211740041929\n",
      "0.9661921708185054\n",
      "Prediction for time step 3\n",
      "(658, 14)\n",
      "0.6793313069908815\n",
      "0.5379939209726444\n",
      "0.44376899696048633\n",
      "0.8844984802431611\n",
      "Prediction for time step 4\n",
      "(538, 19)\n",
      "0.8048327137546468\n",
      "0.8122676579925651\n",
      "0.7527881040892194\n",
      "0.9267734553775744\n",
      "0.9386617100371747\n",
      "Prediction for time step 4\n",
      "(634, 14)\n",
      "0.6529968454258676\n",
      "0.45110410094637227\n",
      "0.3659305993690852\n",
      "0.8217665615141956\n",
      "Prediction for time step 5\n",
      "(514, 19)\n",
      "0.7762645914396887\n",
      "0.7723735408560312\n",
      "0.7140077821011673\n",
      "0.924433249370277\n",
      "0.9085603112840467\n",
      "Prediction for time step 5\n",
      "(610, 14)\n",
      "0.6409836065573771\n",
      "0.37540983606557377\n",
      "0.3081967213114754\n",
      "0.7704918032786885\n",
      "Prediction for time step 6\n",
      "(490, 19)\n",
      "0.7428571428571429\n",
      "0.7326530612244898\n",
      "0.673469387755102\n",
      "0.9192200557103064\n",
      "0.8775510204081632\n",
      "Prediction for time step 6\n",
      "(586, 14)\n",
      "0.6092150170648464\n",
      "0.31569965870307165\n",
      "0.24914675767918087\n",
      "0.7235494880546075\n",
      "Prediction for time step 7\n",
      "(466, 19)\n",
      "0.7060085836909872\n",
      "0.6888412017167382\n",
      "0.6266094420600858\n",
      "0.9096573208722741\n",
      "0.8454935622317596\n",
      "Prediction for time step 7\n",
      "(562, 14)\n",
      "0.5782918149466192\n",
      "0.25622775800711745\n",
      "0.19750889679715303\n",
      "0.6779359430604982\n",
      "Prediction for time step 8\n",
      "(442, 19)\n",
      "0.665158371040724\n",
      "0.6380090497737556\n",
      "0.5769230769230769\n",
      "0.9042553191489362\n",
      "0.8076923076923077\n",
      "Prediction for time step 8\n",
      "(538, 14)\n",
      "0.5631970260223048\n",
      "0.20446096654275092\n",
      "0.14684014869888476\n",
      "0.6301115241635687\n",
      "Prediction for time step 9\n",
      "(418, 19)\n",
      "0.631578947368421\n",
      "0.5861244019138756\n",
      "0.5358851674641149\n",
      "0.9142857142857143\n",
      "0.7655502392344498\n",
      "Prediction for time step 9\n",
      "(514, 14)\n",
      "0.5330739299610895\n",
      "0.1517509727626459\n",
      "0.10505836575875487\n",
      "0.5817120622568094\n",
      "Prediction for time step 10\n",
      "(394, 19)\n",
      "0.5913705583756346\n",
      "0.5431472081218274\n",
      "0.4949238578680203\n",
      "0.9112149532710281\n",
      "0.7233502538071066\n",
      "Prediction for time step 10\n",
      "(490, 14)\n",
      "0.5122448979591837\n",
      "0.11020408163265306\n",
      "0.0673469387755102\n",
      "0.5408163265306123\n",
      "Prediction for time step 11\n",
      "(370, 19)\n",
      "0.5756756756756757\n",
      "0.5081081081081081\n",
      "0.4702702702702703\n",
      "0.925531914893617\n",
      "0.6837837837837838\n",
      "Prediction for time step 11\n",
      "(466, 14)\n",
      "0.4978540772532189\n",
      "0.07081545064377683\n",
      "0.0407725321888412\n",
      "0.49356223175965663\n",
      "Prediction for time step 12\n",
      "(346, 19)\n",
      "0.5606936416184971\n",
      "0.4797687861271676\n",
      "0.4421965317919075\n",
      "0.9216867469879518\n",
      "0.638728323699422\n",
      "Prediction for time step 12\n",
      "(442, 14)\n",
      "0.45701357466063347\n",
      "0.042986425339366516\n",
      "0.020361990950226245\n",
      "0.4434389140271493\n",
      "Prediction for time step 13\n",
      "(322, 19)\n",
      "0.531055900621118\n",
      "0.4440993788819876\n",
      "0.40683229813664595\n",
      "0.916083916083916\n",
      "0.5962732919254659\n",
      "Prediction for time step 13\n",
      "(418, 14)\n",
      "0.44976076555023925\n",
      "0.0215311004784689\n",
      "0.007177033492822967\n",
      "0.3875598086124402\n",
      "Prediction for time step 14\n",
      "(298, 19)\n",
      "0.5\n",
      "0.40939597315436244\n",
      "0.3724832214765101\n",
      "0.9098360655737705\n",
      "0.5536912751677853\n",
      "Prediction for time step 14\n",
      "(394, 14)\n",
      "0.41878172588832485\n",
      "0.007614213197969543\n",
      "0.0025380710659898475\n",
      "0.3426395939086294\n",
      "Prediction for time step 15\n",
      "(275, 19)\n",
      "0.4763636363636364\n",
      "0.37454545454545457\n",
      "0.34545454545454546\n",
      "0.9223300970873787\n",
      "0.5163636363636364\n",
      "Prediction for time step 15\n",
      "(370, 14)\n",
      "0.41081081081081083\n",
      "0.002702702702702703\n",
      "0.0\n",
      "0.31351351351351353\n"
     ]
    }
   ],
   "source": [
    "acc = []\n",
    "acc_2 = []\n",
    "acc_linear = []\n",
    "acc_linear_2 = []\n",
    "for i in range(0,16):\n",
    "    #make predictions\n",
    "    data = predict_data(data, model)\n",
    "    data_linear = predict_linear(data_linear)\n",
    "    #evaluate predictions\n",
    "    print('Prediction for time step ' + str(i))\n",
    "    print(data.shape)\n",
    "    print(sum(data.accuracy == 1)/(sum(data.accuracy==0)+sum(data.accuracy == 1)))\n",
    "    print(sum(data.pos_acc == 1)/(sum(data.pos_acc==0)+sum(data.pos_acc == 1)))\n",
    "    print(sum((data.pos_acc == 1) & (data.accuracy == 1))/data.shape[0])\n",
    "    print(sum((data.pos_acc == 1) & (data.accuracy == 1))/sum(data.pos_acc == 1))\n",
    "    print(sum(data.pos_acc_2 == 1)/(sum(data.pos_acc_2==0)+sum(data.pos_acc_2 == 1)))\n",
    "    acc.append(sum((data.pos_acc == 1) & (data.accuracy == 1))/data.shape[0])\n",
    "    acc_2.append(sum(data.pos_acc_2 == 1)/(sum(data.pos_acc_2==0)+sum(data.pos_acc_2 == 1)))\n",
    "    \n",
    "    \n",
    "    #evaluate linear predictions\n",
    "    print('Prediction for time step ' + str(i))\n",
    "    print(data_linear.shape)\n",
    "    print(sum(data_linear.accuracy == 1)/(sum(data_linear.accuracy==0)+sum(data_linear.accuracy == 1)))\n",
    "    print(sum(data_linear.pos_acc == 1)/(sum(data_linear.pos_acc==0)+sum(data_linear.pos_acc == 1)))\n",
    "    print(sum((data_linear.pos_acc == 1) & (data_linear.accuracy == 1))/data_linear.shape[0])\n",
    "    acc_linear.append(sum((data_linear.pos_acc == 1) & (data_linear.accuracy == 1))/data_linear.shape[0])\n",
    "    print(sum(data_linear.pos_acc_2 == 1)/(sum(data_linear.pos_acc_2==0)+sum(data_linear.pos_acc_2 == 1)))\n",
    "    acc_linear_2.append(sum(data_linear.pos_acc_2 == 1)/(sum(data_linear.pos_acc_2==0)+sum(data_linear.pos_acc_2 == 1)))\n",
    "    \n",
    "    #make data ready for new predictions\n",
    "    data = data_from_prediction(data, G, obj_dir)\n",
    "    data_linear = linear_data(data_linear)"
   ]
  },
  {
   "cell_type": "code",
   "execution_count": 37,
   "metadata": {},
   "outputs": [
    {
     "data": {
      "text/plain": [
       "False"
      ]
     },
     "execution_count": 37,
     "metadata": {},
     "output_type": "execute_result"
    }
   ],
   "source": [
    "data.loc[20].sample1[0] == data.loc[20].sample2[0]"
   ]
  },
  {
   "cell_type": "code",
   "execution_count": 108,
   "metadata": {},
   "outputs": [
    {
     "data": {
      "text/plain": [
       "1125899906842624"
      ]
     },
     "execution_count": 108,
     "metadata": {},
     "output_type": "execute_result"
    }
   ],
   "source": [
    "4**25"
   ]
  },
  {
   "cell_type": "code",
   "execution_count": 27,
   "metadata": {},
   "outputs": [
    {
     "data": {
      "text/plain": [
       "636"
      ]
     },
     "execution_count": 27,
     "metadata": {},
     "output_type": "execute_result"
    }
   ],
   "source": [
    "sum(([item in data_all_correct for item in data.index]) & (data.accuracy==1))"
   ]
  },
  {
   "cell_type": "code",
   "execution_count": 78,
   "metadata": {},
   "outputs": [],
   "source": [
    "data_test = pd.read_csv('test_new.csv')"
   ]
  },
  {
   "cell_type": "code",
   "execution_count": 79,
   "metadata": {},
   "outputs": [],
   "source": [
    "#data_test = data_test[data_test.run==2]\n",
    "#data.target = data.direction.apply(literal_eval)\n",
    "data_test.sample1 = data_test.sample1.fillna('[]').apply(literal_eval)\n",
    "data_test.sample2 = data_test.sample2.fillna('[]').apply(literal_eval)\n",
    "data_test.sample3 = data_test.sample3.fillna('[]').apply(literal_eval)\n",
    "data_test.sample4 = data_test.sample4.fillna('[]').apply(literal_eval)\n",
    "data_test.sample5 = data_test.sample5.fillna('[]').apply(literal_eval)\n",
    "data_test.query_state = data_test.query_state.fillna('[]').apply(literal_eval)\n",
    "data_test.direction = data_test.direction.fillna('[]').apply(literal_eval)\n",
    "data_test.agent_loc = data_test.agent_loc.fillna('[]').apply(literal_eval)\n",
    "\n",
    "data_test['predict_loc'] = [(0,0)]*len(data_test)\n",
    "data_test['true_agent_loc'] = data_test['agent_loc']"
   ]
  },
  {
   "cell_type": "code",
   "execution_count": 80,
   "metadata": {},
   "outputs": [],
   "source": [
    "data_tes_preds = predict_data(data_test, model)"
   ]
  },
  {
   "cell_type": "code",
   "execution_count": 81,
   "metadata": {},
   "outputs": [
    {
     "data": {
      "text/plain": [
       "0.9311283712132068"
      ]
     },
     "execution_count": 81,
     "metadata": {},
     "output_type": "execute_result"
    }
   ],
   "source": [
    "sum(data_tes_preds.accuracy==1)/data_tes_preds.shape[0]"
   ]
  },
  {
   "cell_type": "code",
   "execution_count": 90,
   "metadata": {},
   "outputs": [
    {
     "data": {
      "text/plain": [
       "<matplotlib.legend.Legend at 0x17363ed7be0>"
      ]
     },
     "execution_count": 90,
     "metadata": {},
     "output_type": "execute_result"
    },
    {
     "data": {
      "image/png": "[encoded data removed]",
      "text/plain": [
       "<Figure size 720x360 with 1 Axes>"
      ]
     },
     "metadata": {},
     "output_type": "display_data"
    }
   ],
   "source": [
    "import seaborn as sns\n",
    "sns.set_style(\"whitegrid\")\n",
    "sns.set(style='whitegrid',font_scale=1.2)\n",
    "fig = plt.figure(figsize=(10,5))\n",
    "\n",
    "plt.plot([1,2,3,4,5,6,7,8,9,10,11,12,13,14,15],acc_linear[:-1], '-x',label='Linear, exact', color='#CCA300')\n",
    "plt.plot([1,2,3,4,5,6,7,8,9,10,11,12,13,14,15],acc_linear_2[1:], '-o',label='Linear', color='#E8E8A3')\n",
    "plt.plot([1,2,3,4,5,6,7,8,9,10,11,12,13,14,15], acc[:-1],'-x',label='NN, exact', color='#336699')\n",
    "plt.plot([1,2,3,4,5,6,7,8,9,10,11,12,13,14,15],acc_2[1:], '-o',label='NN', color='#B4BFE0')\n",
    "plt.xlabel('Time step')\n",
    "plt.ylabel('Accuracy')\n",
    "plt.ylim((0,1))\n",
    "plt.xlim((1,15))\n",
    "plt.xticks(np.arange(1, 15+1, 1.0))\n",
    "plt.yticks(np.arange(0, 1+0.05, 0.1))\n",
    "plt.legend()"
   ]
  },
  {
   "cell_type": "code",
   "execution_count": 91,
   "metadata": {},
   "outputs": [],
   "source": [
    "fig.savefig('performance.png')"
   ]
  },
  {
   "cell_type": "code",
   "execution_count": null,
   "metadata": {},
   "outputs": [],
   "source": []
  }
 ],
 "metadata": {
  "kernelspec": {
   "display_name": "Python 3",
   "language": "python",
   "name": "python3"
  },
  "language_info": {
   "codemirror_mode": {
    "name": "ipython",
    "version": 3
   },
   "file_extension": ".py",
   "mimetype": "text/x-python",
   "name": "python",
   "nbconvert_exporter": "python",
   "pygments_lexer": "ipython3",
   "version": "3.6.5"
  }
 },
 "nbformat": 4,
 "nbformat_minor": 4
}
