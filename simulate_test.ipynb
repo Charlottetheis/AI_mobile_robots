{
 "cells": [
  {
   "cell_type": "code",
   "execution_count": 1,
   "metadata": {},
   "outputs": [
    {
     "name": "stdout",
     "output_type": "stream",
     "text": [
      "pygame 1.9.6\n",
      "Hello from the pygame community. https://www.pygame.org/contribute.html\n"
     ]
    }
   ],
   "source": [
    "from simulate import *"
   ]
  },
  {
   "cell_type": "code",
   "execution_count": 2,
   "metadata": {},
   "outputs": [],
   "source": [
    "test_map =\"\"\"wwwwwwwwwwwwweeewwwwwwwwwwwwww\n",
    "w                            w\n",
    "w                            w\n",
    "w                            w\n",
    "w   wwwwwwwww   wwwwwwwwww   w\n",
    "w   ws      w   ws       w   w\n",
    "w   w           w        w   w\n",
    "w   w           w        w   w\n",
    "w   w       w   w        w   w\n",
    "w   wwwwwwwww   w            w\n",
    "w               w            w\n",
    "w               wwwwwwwwww   w\n",
    "w                            w\n",
    "wwwwwwwwwwwww                w\n",
    "e                            w\n",
    "e                            w\n",
    "e                            w\n",
    "wwwwwwwwwwwww                w\n",
    "ws          w                w\n",
    "w           w                w\n",
    "w                            w\n",
    "w                            w\n",
    "w                            w\n",
    "w           w                w\n",
    "w           w                w\n",
    "w           w                w\n",
    "w           w                w\n",
    "w           w                w\n",
    "w           w                w\n",
    "wwwwwwwwwwwwwwwwwwwweeewwwwwww\"\"\""
   ]
  },
  {
   "cell_type": "code",
   "execution_count": 3,
   "metadata": {},
   "outputs": [],
   "source": [
    "res_matrix, humans = simulate(test_map,viz=False)"
   ]
  },
  {
   "cell_type": "code",
   "execution_count": 10,
   "metadata": {},
   "outputs": [
    {
     "data": {
      "text/plain": [
       "array([list([(13, 16), (15, 16), (14, 15), (14, 17), (14, 16)]),\n",
       "       list([(10, 14), (12, 14), (11, 15), (11, 14)]),\n",
       "       list([(22, 12), (24, 12), (23, 13), (23, 12)]), 0.0, 0.0,\n",
       "       list([(7, 14), (9, 14), (8, 15), (8, 14)]), 0.0, 0.0, 0.0, 0.0,\n",
       "       list([(5, 14), (7, 14), (6, 15), (6, 14)]), 0.0, 0.0], dtype=object)"
      ]
     },
     "execution_count": 10,
     "metadata": {},
     "output_type": "execute_result"
    }
   ],
   "source": [
    "res_matrix[19,:]"
   ]
  },
  {
   "cell_type": "code",
   "execution_count": 5,
   "metadata": {},
   "outputs": [
    {
     "data": {
      "text/plain": [
       "range(0, 107)"
      ]
     },
     "execution_count": 5,
     "metadata": {},
     "output_type": "execute_result"
    }
   ],
   "source": [
    "range(res_matrix.shape[0])"
   ]
  },
  {
   "cell_type": "code",
   "execution_count": 6,
   "metadata": {},
   "outputs": [
    {
     "name": "stdout",
     "output_type": "stream",
     "text": [
      "5 and 10 in conflict at time 19\n",
      "5 and 10 in conflict at time 20\n",
      "1 and 10 in conflict at time 21\n",
      "5 and 10 in conflict at time 21\n",
      "1 and 10 in conflict at time 22\n",
      "4 and 12 in conflict at time 28\n",
      "4 and 12 in conflict at time 29\n",
      "4 and 12 in conflict at time 30\n",
      "0 and 4 in conflict at time 31\n",
      "0 and 12 in conflict at time 31\n",
      "4 and 12 in conflict at time 31\n",
      "0 and 4 in conflict at time 32\n",
      "0 and 12 in conflict at time 32\n",
      "4 and 12 in conflict at time 32\n",
      "4 and 10 in conflict at time 33\n",
      "4 and 12 in conflict at time 33\n",
      "2 and 7 in conflict at time 34\n",
      "4 and 10 in conflict at time 34\n",
      "4 and 12 in conflict at time 34\n",
      "10 and 12 in conflict at time 34\n",
      "4 and 10 in conflict at time 35\n",
      "4 and 12 in conflict at time 35\n",
      "4 and 12 in conflict at time 36\n",
      "4 and 12 in conflict at time 37\n",
      "4 and 12 in conflict at time 38\n",
      "4 and 12 in conflict at time 39\n",
      "4 and 12 in conflict at time 40\n",
      "4 and 12 in conflict at time 41\n",
      "4 and 12 in conflict at time 42\n",
      "6 and 7 in conflict at time 56\n",
      "6 and 7 in conflict at time 57\n",
      "3 and 9 in conflict at time 58\n",
      "3 and 9 in conflict at time 59\n",
      "3 and 9 in conflict at time 60\n",
      "3 and 9 in conflict at time 61\n",
      "3 and 9 in conflict at time 62\n",
      "3 and 9 in conflict at time 63\n",
      "3 and 9 in conflict at time 64\n",
      "3 and 9 in conflict at time 65\n",
      "3 and 9 in conflict at time 66\n",
      "3 and 9 in conflict at time 67\n",
      "3 and 9 in conflict at time 68\n",
      "3 and 9 in conflict at time 69\n",
      "3 and 9 in conflict at time 70\n",
      "3 and 9 in conflict at time 71\n",
      "3 and 9 in conflict at time 72\n",
      "3 and 9 in conflict at time 73\n",
      "3 and 9 in conflict at time 74\n",
      "3 and 9 in conflict at time 75\n",
      "3 and 9 in conflict at time 76\n",
      "3 and 9 in conflict at time 77\n",
      "3 and 9 in conflict at time 78\n",
      "3 and 9 in conflict at time 79\n",
      "3 and 8 in conflict at time 80\n",
      "3 and 9 in conflict at time 80\n",
      "3 and 8 in conflict at time 81\n",
      "3 and 9 in conflict at time 81\n",
      "8 and 9 in conflict at time 81\n",
      "3 and 8 in conflict at time 82\n",
      "3 and 9 in conflict at time 82\n",
      "8 and 9 in conflict at time 82\n",
      "3 and 9 in conflict at time 83\n",
      "8 and 9 in conflict at time 83\n",
      "3 and 9 in conflict at time 84\n",
      "3 and 9 in conflict at time 85\n",
      "3 and 9 in conflict at time 86\n",
      "3 and 9 in conflict at time 87\n",
      "3 and 9 in conflict at time 88\n",
      "3 and 9 in conflict at time 89\n",
      "3 and 9 in conflict at time 90\n",
      "3 and 9 in conflict at time 91\n",
      "3 and 9 in conflict at time 92\n"
     ]
    }
   ],
   "source": [
    "for t in range(res_matrix.shape[0]):\n",
    "    for h1 in range(res_matrix.shape[1]):\n",
    "        for h2 in range(h1+1,res_matrix.shape[1]):\n",
    "            if (res_matrix[t,h1]==0) or (res_matrix[t,h2]==0):\n",
    "                continue\n",
    "            elif (set(res_matrix[t,h1]) & set(res_matrix[t,h2])):\n",
    "                print(str(h1)+ ' and ' + str(h2) + ' in conflict at time ' + str(t))"
   ]
  },
  {
   "cell_type": "code",
   "execution_count": 7,
   "metadata": {},
   "outputs": [
    {
     "ename": "TypeError",
     "evalue": "'float' object cannot be interpreted as an integer",
     "output_type": "error",
     "traceback": [
      "\u001b[1;31m---------------------------------------------------------------------------\u001b[0m",
      "\u001b[1;31mTypeError\u001b[0m                                 Traceback (most recent call last)",
      "\u001b[1;32m<ipython-input-7-5cf76d7850d5>\u001b[0m in \u001b[0;36m<module>\u001b[1;34m\u001b[0m\n\u001b[1;32m----> 1\u001b[1;33m \u001b[0mrange\u001b[0m\u001b[1;33m(\u001b[0m\u001b[1;36m1.2\u001b[0m\u001b[1;33m)\u001b[0m\u001b[1;33m\u001b[0m\u001b[0m\n\u001b[0m",
      "\u001b[1;31mTypeError\u001b[0m: 'float' object cannot be interpreted as an integer"
     ]
    }
   ],
   "source": [
    "range(1.2)"
   ]
  },
  {
   "cell_type": "code",
   "execution_count": null,
   "metadata": {},
   "outputs": [],
   "source": [
    "set(np.array([1,1])) & set()"
   ]
  },
  {
   "cell_type": "code",
   "execution_count": null,
   "metadata": {},
   "outputs": [],
   "source": [
    "humans[1].plan"
   ]
  },
  {
   "cell_type": "code",
   "execution_count": 11,
   "metadata": {},
   "outputs": [
    {
     "data": {
      "text/plain": [
       "1024"
      ]
     },
     "execution_count": 11,
     "metadata": {},
     "output_type": "execute_result"
    }
   ],
   "source": [
    "4**5"
   ]
  },
  {
   "cell_type": "code",
   "execution_count": 12,
   "metadata": {},
   "outputs": [],
   "source": [
    "t = dict()\n",
    "\n",
    "t['a'] = 0"
   ]
  },
  {
   "cell_type": "code",
   "execution_count": 14,
   "metadata": {},
   "outputs": [],
   "source": [
    "t['a'] = 1"
   ]
  },
  {
   "cell_type": "code",
   "execution_count": 15,
   "metadata": {},
   "outputs": [
    {
     "data": {
      "text/plain": [
       "1"
      ]
     },
     "execution_count": 15,
     "metadata": {},
     "output_type": "execute_result"
    }
   ],
   "source": [
    "t['a']"
   ]
  },
  {
   "cell_type": "code",
   "execution_count": 16,
   "metadata": {},
   "outputs": [
    {
     "ename": "AttributeError",
     "evalue": "'dict' object has no attribute 'remove'",
     "output_type": "error",
     "traceback": [
      "\u001b[1;31m---------------------------------------------------------------------------\u001b[0m",
      "\u001b[1;31mAttributeError\u001b[0m                            Traceback (most recent call last)",
      "\u001b[1;32m<ipython-input-16-f5e76cad76ac>\u001b[0m in \u001b[0;36m<module>\u001b[1;34m\u001b[0m\n\u001b[1;32m----> 1\u001b[1;33m \u001b[0mt\u001b[0m\u001b[1;33m.\u001b[0m\u001b[0mremove\u001b[0m\u001b[1;33m(\u001b[0m\u001b[1;34m'a'\u001b[0m\u001b[1;33m)\u001b[0m\u001b[1;33m\u001b[0m\u001b[0m\n\u001b[0m",
      "\u001b[1;31mAttributeError\u001b[0m: 'dict' object has no attribute 'remove'"
     ]
    }
   ],
   "source": [
    "t.remove('a')"
   ]
  },
  {
   "cell_type": "code",
   "execution_count": 17,
   "metadata": {},
   "outputs": [],
   "source": [
    "t2 = set()\n",
    "\n",
    "t2.add('a')"
   ]
  },
  {
   "cell_type": "code",
   "execution_count": 18,
   "metadata": {},
   "outputs": [
    {
     "data": {
      "text/plain": [
       "{'a'}"
      ]
     },
     "execution_count": 18,
     "metadata": {},
     "output_type": "execute_result"
    }
   ],
   "source": [
    "t2"
   ]
  },
  {
   "cell_type": "code",
   "execution_count": 21,
   "metadata": {},
   "outputs": [],
   "source": [
    "t2.remove('a')"
   ]
  },
  {
   "cell_type": "code",
   "execution_count": 20,
   "metadata": {},
   "outputs": [
    {
     "data": {
      "text/plain": [
       "True"
      ]
     },
     "execution_count": 20,
     "metadata": {},
     "output_type": "execute_result"
    }
   ],
   "source": [
    "'a' in t2"
   ]
  },
  {
   "cell_type": "code",
   "execution_count": null,
   "metadata": {},
   "outputs": [],
   "source": []
  }
 ],
 "metadata": {
  "kernelspec": {
   "display_name": "Python 3",
   "language": "python",
   "name": "python3"
  },
  "language_info": {
   "codemirror_mode": {
    "name": "ipython",
    "version": 3
   },
   "file_extension": ".py",
   "mimetype": "text/x-python",
   "name": "python",
   "nbconvert_exporter": "python",
   "pygments_lexer": "ipython3",
   "version": "3.6.5"
  }
 },
 "nbformat": 4,
 "nbformat_minor": 4
}
